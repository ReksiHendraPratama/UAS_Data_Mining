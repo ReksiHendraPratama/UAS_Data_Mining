{
  "nbformat": 4,
  "nbformat_minor": 0,
  "metadata": {
    "colab": {
      "provenance": []
    },
    "kernelspec": {
      "name": "python3",
      "display_name": "Python 3"
    },
    "language_info": {
      "name": "python"
    }
  },
  "cells": [
    {
      "cell_type": "markdown",
      "source": [
        "# UAS Data Mining\n",
        "**Nama Kelompok:**\n",
        "\n",
        "1. Reksi Hendra Pratama ( G1A022032)\n",
        "2. Baim Mudrik Aziz (G1A022071)\n",
        "\n"
      ],
      "metadata": {
        "id": "92bjlxnL2SiQ"
      }
    },
    {
      "cell_type": "markdown",
      "source": [
        "## Import Library"
      ],
      "metadata": {
        "id": "WTrI2kT74MTi"
      }
    },
    {
      "cell_type": "code",
      "execution_count": 1,
      "metadata": {
        "id": "9-71vprgpeFk"
      },
      "outputs": [],
      "source": [
        "# Manipulasi data\n",
        "import pandas as pd\n",
        "import numpy as np\n",
        "\n",
        "# Unduh file dari Google Drive\n",
        "import gdown\n",
        "\n",
        "# Visualisasi\n",
        "import matplotlib.pyplot as plt\n",
        "import seaborn as sns\n",
        "\n",
        "# Pra-pemrosesan dan pembagian data\n",
        "from sklearn.model_selection import train_test_split\n",
        "from sklearn.preprocessing import MinMaxScaler\n",
        "\n",
        "# Model\n",
        "from sklearn.ensemble import RandomForestClassifier\n",
        "from sklearn.linear_model import LogisticRegression\n",
        "\n",
        "# Evaluasi model\n",
        "from sklearn.metrics import (\n",
        "    accuracy_score,\n",
        "    precision_score,\n",
        "    recall_score,\n",
        "    f1_score,\n",
        "    classification_report,\n",
        "    confusion_matrix\n",
        ")\n",
        "\n",
        "# Penyimpanan model\n",
        "import joblib\n"
      ]
    },
    {
      "cell_type": "markdown",
      "source": [
        "## Data Understanding"
      ],
      "metadata": {
        "id": "u2xu1PIw6Ale"
      }
    },
    {
      "cell_type": "markdown",
      "source": [
        "###2.1 Data Loading"
      ],
      "metadata": {
        "id": "uje2WPu469Su"
      }
    },
    {
      "cell_type": "code",
      "source": [
        "# ID file dari link Google Drive\n",
        "file_id = \"1kjRfgWkgo8BP_BGlkAK3FBJ-OsbTK13x\"\n",
        "output_filename = \"dataset_mahasiswa_DO_4000_mahasiswa.csv\"\n",
        "\n",
        "gdown.download(f\"https://drive.google.com/uc?id={file_id}\", output_filename, quiet=False)"
      ],
      "metadata": {
        "colab": {
          "base_uri": "https://localhost:8080/",
          "height": 105
        },
        "id": "ad3-1gdM5-uv",
        "outputId": "54b465c3-4cb8-461e-c200-d938117358bb"
      },
      "execution_count": 2,
      "outputs": [
        {
          "output_type": "stream",
          "name": "stderr",
          "text": [
            "Downloading...\n",
            "From: https://drive.google.com/uc?id=1kjRfgWkgo8BP_BGlkAK3FBJ-OsbTK13x\n",
            "To: /content/dataset_mahasiswa_DO_4000_mahasiswa.csv\n",
            "100%|██████████| 310k/310k [00:00<00:00, 69.9MB/s]\n"
          ]
        },
        {
          "output_type": "execute_result",
          "data": {
            "text/plain": [
              "'dataset_mahasiswa_DO_4000_mahasiswa.csv'"
            ],
            "application/vnd.google.colaboratory.intrinsic+json": {
              "type": "string"
            }
          },
          "metadata": {},
          "execution_count": 2
        }
      ]
    },
    {
      "cell_type": "code",
      "source": [
        "# Baca dataset\n",
        "df = pd.read_csv('dataset_mahasiswa_DO_4000_mahasiswa.csv')"
      ],
      "metadata": {
        "id": "xmBdS6RluOqh"
      },
      "execution_count": 3,
      "outputs": []
    },
    {
      "cell_type": "markdown",
      "source": [
        "###2.2 EDA (Exploratory Data Analysis)"
      ],
      "metadata": {
        "id": "KY590RB77EjE"
      }
    },
    {
      "cell_type": "code",
      "source": [
        "df"
      ],
      "metadata": {
        "colab": {
          "base_uri": "https://localhost:8080/",
          "height": 444
        },
        "id": "vET-RK227XpT",
        "outputId": "6b54cc8e-5026-4772-88a3-85cf0954b659"
      },
      "execution_count": 4,
      "outputs": [
        {
          "output_type": "execute_result",
          "data": {
            "text/plain": [
              "              NIM  IPK_Semester_1  IPK_Semester_2  IPK_Semester_3  \\\n",
              "0      G1A0220000            2.01            2.10            2.05   \n",
              "1      G1A0220001            3.27            3.15            3.40   \n",
              "2      G1A0220002            3.04            2.93            2.92   \n",
              "3      G1A0220003            2.00            2.22            2.11   \n",
              "4      G1A0220004            3.58            3.35            3.52   \n",
              "...           ...             ...             ...             ...   \n",
              "3995  G1A02233620            2.28            2.23            2.00   \n",
              "3996  G1A02233634            2.00            2.00            2.00   \n",
              "3997  G1A02233635            2.18            2.02            2.12   \n",
              "3998  G1A02233708            2.40            2.34            2.52   \n",
              "3999  G1A02233744            2.00            2.09            2.30   \n",
              "\n",
              "      IPK_Semester_4  IPK_Semester_5  IPK_Semester_6  \\\n",
              "0               2.08            2.00            2.17   \n",
              "1               3.13            3.35            3.39   \n",
              "2               3.19            3.33            3.20   \n",
              "3               2.20            2.00            2.36   \n",
              "4               3.39            3.15            3.28   \n",
              "...              ...             ...             ...   \n",
              "3995            2.22            2.20            2.08   \n",
              "3996            2.19            2.00            2.08   \n",
              "3997            2.04            2.06            2.12   \n",
              "3998            2.29            2.44            2.38   \n",
              "3999            2.24            2.39            2.27   \n",
              "\n",
              "      Kehadiran_Per_Mata_Kuliah  Riwayat_Pengambilan_Ulang  \\\n",
              "0                         89.84                          1   \n",
              "1                         83.69                          1   \n",
              "2                         78.63                          0   \n",
              "3                         82.09                          1   \n",
              "4                         76.21                          1   \n",
              "...                         ...                        ...   \n",
              "3995                      84.06                          3   \n",
              "3996                      81.40                          0   \n",
              "3997                      85.13                          0   \n",
              "3998                      84.81                          3   \n",
              "3999                      72.87                          0   \n",
              "\n",
              "      Aktivitas_Sistem_Pembelajaran_Daring Status_Pekerjaan  \\\n",
              "0                                    65.50    Tidak Bekerja   \n",
              "1                                    82.59          Bekerja   \n",
              "2                                    64.78    Tidak Bekerja   \n",
              "3                                    74.19          Bekerja   \n",
              "4                                    63.18    Tidak Bekerja   \n",
              "...                                    ...              ...   \n",
              "3995                                 79.99          Bekerja   \n",
              "3996                                 34.99          Bekerja   \n",
              "3997                                 32.80          Bekerja   \n",
              "3998                                 54.96          Bekerja   \n",
              "3999                                 23.40          Bekerja   \n",
              "\n",
              "      Beban_Kerja_JamPerMinggu Status_Ekonomi  Status_Risiko_DO  \n",
              "0                            0         Tinggi                 0  \n",
              "1                           33       Menengah                 0  \n",
              "2                            0         Tinggi                 0  \n",
              "3                           23         Rendah                 0  \n",
              "4                            0         Tinggi                 0  \n",
              "...                        ...            ...               ...  \n",
              "3995                        35       Menengah                 1  \n",
              "3996                        36         Rendah                 1  \n",
              "3997                        38         Rendah                 1  \n",
              "3998                        11         Rendah                 1  \n",
              "3999                        15         Rendah                 1  \n",
              "\n",
              "[4000 rows x 14 columns]"
            ],
            "text/html": [
              "\n",
              "  <div id=\"df-ad071437-7fe0-4a3d-a1c1-8a4eba593f09\" class=\"colab-df-container\">\n",
              "    <div>\n",
              "<style scoped>\n",
              "    .dataframe tbody tr th:only-of-type {\n",
              "        vertical-align: middle;\n",
              "    }\n",
              "\n",
              "    .dataframe tbody tr th {\n",
              "        vertical-align: top;\n",
              "    }\n",
              "\n",
              "    .dataframe thead th {\n",
              "        text-align: right;\n",
              "    }\n",
              "</style>\n",
              "<table border=\"1\" class=\"dataframe\">\n",
              "  <thead>\n",
              "    <tr style=\"text-align: right;\">\n",
              "      <th></th>\n",
              "      <th>NIM</th>\n",
              "      <th>IPK_Semester_1</th>\n",
              "      <th>IPK_Semester_2</th>\n",
              "      <th>IPK_Semester_3</th>\n",
              "      <th>IPK_Semester_4</th>\n",
              "      <th>IPK_Semester_5</th>\n",
              "      <th>IPK_Semester_6</th>\n",
              "      <th>Kehadiran_Per_Mata_Kuliah</th>\n",
              "      <th>Riwayat_Pengambilan_Ulang</th>\n",
              "      <th>Aktivitas_Sistem_Pembelajaran_Daring</th>\n",
              "      <th>Status_Pekerjaan</th>\n",
              "      <th>Beban_Kerja_JamPerMinggu</th>\n",
              "      <th>Status_Ekonomi</th>\n",
              "      <th>Status_Risiko_DO</th>\n",
              "    </tr>\n",
              "  </thead>\n",
              "  <tbody>\n",
              "    <tr>\n",
              "      <th>0</th>\n",
              "      <td>G1A0220000</td>\n",
              "      <td>2.01</td>\n",
              "      <td>2.10</td>\n",
              "      <td>2.05</td>\n",
              "      <td>2.08</td>\n",
              "      <td>2.00</td>\n",
              "      <td>2.17</td>\n",
              "      <td>89.84</td>\n",
              "      <td>1</td>\n",
              "      <td>65.50</td>\n",
              "      <td>Tidak Bekerja</td>\n",
              "      <td>0</td>\n",
              "      <td>Tinggi</td>\n",
              "      <td>0</td>\n",
              "    </tr>\n",
              "    <tr>\n",
              "      <th>1</th>\n",
              "      <td>G1A0220001</td>\n",
              "      <td>3.27</td>\n",
              "      <td>3.15</td>\n",
              "      <td>3.40</td>\n",
              "      <td>3.13</td>\n",
              "      <td>3.35</td>\n",
              "      <td>3.39</td>\n",
              "      <td>83.69</td>\n",
              "      <td>1</td>\n",
              "      <td>82.59</td>\n",
              "      <td>Bekerja</td>\n",
              "      <td>33</td>\n",
              "      <td>Menengah</td>\n",
              "      <td>0</td>\n",
              "    </tr>\n",
              "    <tr>\n",
              "      <th>2</th>\n",
              "      <td>G1A0220002</td>\n",
              "      <td>3.04</td>\n",
              "      <td>2.93</td>\n",
              "      <td>2.92</td>\n",
              "      <td>3.19</td>\n",
              "      <td>3.33</td>\n",
              "      <td>3.20</td>\n",
              "      <td>78.63</td>\n",
              "      <td>0</td>\n",
              "      <td>64.78</td>\n",
              "      <td>Tidak Bekerja</td>\n",
              "      <td>0</td>\n",
              "      <td>Tinggi</td>\n",
              "      <td>0</td>\n",
              "    </tr>\n",
              "    <tr>\n",
              "      <th>3</th>\n",
              "      <td>G1A0220003</td>\n",
              "      <td>2.00</td>\n",
              "      <td>2.22</td>\n",
              "      <td>2.11</td>\n",
              "      <td>2.20</td>\n",
              "      <td>2.00</td>\n",
              "      <td>2.36</td>\n",
              "      <td>82.09</td>\n",
              "      <td>1</td>\n",
              "      <td>74.19</td>\n",
              "      <td>Bekerja</td>\n",
              "      <td>23</td>\n",
              "      <td>Rendah</td>\n",
              "      <td>0</td>\n",
              "    </tr>\n",
              "    <tr>\n",
              "      <th>4</th>\n",
              "      <td>G1A0220004</td>\n",
              "      <td>3.58</td>\n",
              "      <td>3.35</td>\n",
              "      <td>3.52</td>\n",
              "      <td>3.39</td>\n",
              "      <td>3.15</td>\n",
              "      <td>3.28</td>\n",
              "      <td>76.21</td>\n",
              "      <td>1</td>\n",
              "      <td>63.18</td>\n",
              "      <td>Tidak Bekerja</td>\n",
              "      <td>0</td>\n",
              "      <td>Tinggi</td>\n",
              "      <td>0</td>\n",
              "    </tr>\n",
              "    <tr>\n",
              "      <th>...</th>\n",
              "      <td>...</td>\n",
              "      <td>...</td>\n",
              "      <td>...</td>\n",
              "      <td>...</td>\n",
              "      <td>...</td>\n",
              "      <td>...</td>\n",
              "      <td>...</td>\n",
              "      <td>...</td>\n",
              "      <td>...</td>\n",
              "      <td>...</td>\n",
              "      <td>...</td>\n",
              "      <td>...</td>\n",
              "      <td>...</td>\n",
              "      <td>...</td>\n",
              "    </tr>\n",
              "    <tr>\n",
              "      <th>3995</th>\n",
              "      <td>G1A02233620</td>\n",
              "      <td>2.28</td>\n",
              "      <td>2.23</td>\n",
              "      <td>2.00</td>\n",
              "      <td>2.22</td>\n",
              "      <td>2.20</td>\n",
              "      <td>2.08</td>\n",
              "      <td>84.06</td>\n",
              "      <td>3</td>\n",
              "      <td>79.99</td>\n",
              "      <td>Bekerja</td>\n",
              "      <td>35</td>\n",
              "      <td>Menengah</td>\n",
              "      <td>1</td>\n",
              "    </tr>\n",
              "    <tr>\n",
              "      <th>3996</th>\n",
              "      <td>G1A02233634</td>\n",
              "      <td>2.00</td>\n",
              "      <td>2.00</td>\n",
              "      <td>2.00</td>\n",
              "      <td>2.19</td>\n",
              "      <td>2.00</td>\n",
              "      <td>2.08</td>\n",
              "      <td>81.40</td>\n",
              "      <td>0</td>\n",
              "      <td>34.99</td>\n",
              "      <td>Bekerja</td>\n",
              "      <td>36</td>\n",
              "      <td>Rendah</td>\n",
              "      <td>1</td>\n",
              "    </tr>\n",
              "    <tr>\n",
              "      <th>3997</th>\n",
              "      <td>G1A02233635</td>\n",
              "      <td>2.18</td>\n",
              "      <td>2.02</td>\n",
              "      <td>2.12</td>\n",
              "      <td>2.04</td>\n",
              "      <td>2.06</td>\n",
              "      <td>2.12</td>\n",
              "      <td>85.13</td>\n",
              "      <td>0</td>\n",
              "      <td>32.80</td>\n",
              "      <td>Bekerja</td>\n",
              "      <td>38</td>\n",
              "      <td>Rendah</td>\n",
              "      <td>1</td>\n",
              "    </tr>\n",
              "    <tr>\n",
              "      <th>3998</th>\n",
              "      <td>G1A02233708</td>\n",
              "      <td>2.40</td>\n",
              "      <td>2.34</td>\n",
              "      <td>2.52</td>\n",
              "      <td>2.29</td>\n",
              "      <td>2.44</td>\n",
              "      <td>2.38</td>\n",
              "      <td>84.81</td>\n",
              "      <td>3</td>\n",
              "      <td>54.96</td>\n",
              "      <td>Bekerja</td>\n",
              "      <td>11</td>\n",
              "      <td>Rendah</td>\n",
              "      <td>1</td>\n",
              "    </tr>\n",
              "    <tr>\n",
              "      <th>3999</th>\n",
              "      <td>G1A02233744</td>\n",
              "      <td>2.00</td>\n",
              "      <td>2.09</td>\n",
              "      <td>2.30</td>\n",
              "      <td>2.24</td>\n",
              "      <td>2.39</td>\n",
              "      <td>2.27</td>\n",
              "      <td>72.87</td>\n",
              "      <td>0</td>\n",
              "      <td>23.40</td>\n",
              "      <td>Bekerja</td>\n",
              "      <td>15</td>\n",
              "      <td>Rendah</td>\n",
              "      <td>1</td>\n",
              "    </tr>\n",
              "  </tbody>\n",
              "</table>\n",
              "<p>4000 rows × 14 columns</p>\n",
              "</div>\n",
              "    <div class=\"colab-df-buttons\">\n",
              "\n",
              "  <div class=\"colab-df-container\">\n",
              "    <button class=\"colab-df-convert\" onclick=\"convertToInteractive('df-ad071437-7fe0-4a3d-a1c1-8a4eba593f09')\"\n",
              "            title=\"Convert this dataframe to an interactive table.\"\n",
              "            style=\"display:none;\">\n",
              "\n",
              "  <svg xmlns=\"http://www.w3.org/2000/svg\" height=\"24px\" viewBox=\"0 -960 960 960\">\n",
              "    <path d=\"M120-120v-720h720v720H120Zm60-500h600v-160H180v160Zm220 220h160v-160H400v160Zm0 220h160v-160H400v160ZM180-400h160v-160H180v160Zm440 0h160v-160H620v160ZM180-180h160v-160H180v160Zm440 0h160v-160H620v160Z\"/>\n",
              "  </svg>\n",
              "    </button>\n",
              "\n",
              "  <style>\n",
              "    .colab-df-container {\n",
              "      display:flex;\n",
              "      gap: 12px;\n",
              "    }\n",
              "\n",
              "    .colab-df-convert {\n",
              "      background-color: #E8F0FE;\n",
              "      border: none;\n",
              "      border-radius: 50%;\n",
              "      cursor: pointer;\n",
              "      display: none;\n",
              "      fill: #1967D2;\n",
              "      height: 32px;\n",
              "      padding: 0 0 0 0;\n",
              "      width: 32px;\n",
              "    }\n",
              "\n",
              "    .colab-df-convert:hover {\n",
              "      background-color: #E2EBFA;\n",
              "      box-shadow: 0px 1px 2px rgba(60, 64, 67, 0.3), 0px 1px 3px 1px rgba(60, 64, 67, 0.15);\n",
              "      fill: #174EA6;\n",
              "    }\n",
              "\n",
              "    .colab-df-buttons div {\n",
              "      margin-bottom: 4px;\n",
              "    }\n",
              "\n",
              "    [theme=dark] .colab-df-convert {\n",
              "      background-color: #3B4455;\n",
              "      fill: #D2E3FC;\n",
              "    }\n",
              "\n",
              "    [theme=dark] .colab-df-convert:hover {\n",
              "      background-color: #434B5C;\n",
              "      box-shadow: 0px 1px 3px 1px rgba(0, 0, 0, 0.15);\n",
              "      filter: drop-shadow(0px 1px 2px rgba(0, 0, 0, 0.3));\n",
              "      fill: #FFFFFF;\n",
              "    }\n",
              "  </style>\n",
              "\n",
              "    <script>\n",
              "      const buttonEl =\n",
              "        document.querySelector('#df-ad071437-7fe0-4a3d-a1c1-8a4eba593f09 button.colab-df-convert');\n",
              "      buttonEl.style.display =\n",
              "        google.colab.kernel.accessAllowed ? 'block' : 'none';\n",
              "\n",
              "      async function convertToInteractive(key) {\n",
              "        const element = document.querySelector('#df-ad071437-7fe0-4a3d-a1c1-8a4eba593f09');\n",
              "        const dataTable =\n",
              "          await google.colab.kernel.invokeFunction('convertToInteractive',\n",
              "                                                    [key], {});\n",
              "        if (!dataTable) return;\n",
              "\n",
              "        const docLinkHtml = 'Like what you see? Visit the ' +\n",
              "          '<a target=\"_blank\" href=https://colab.research.google.com/notebooks/data_table.ipynb>data table notebook</a>'\n",
              "          + ' to learn more about interactive tables.';\n",
              "        element.innerHTML = '';\n",
              "        dataTable['output_type'] = 'display_data';\n",
              "        await google.colab.output.renderOutput(dataTable, element);\n",
              "        const docLink = document.createElement('div');\n",
              "        docLink.innerHTML = docLinkHtml;\n",
              "        element.appendChild(docLink);\n",
              "      }\n",
              "    </script>\n",
              "  </div>\n",
              "\n",
              "\n",
              "    <div id=\"df-0d6fb437-15c9-4123-af38-660e65bd975b\">\n",
              "      <button class=\"colab-df-quickchart\" onclick=\"quickchart('df-0d6fb437-15c9-4123-af38-660e65bd975b')\"\n",
              "                title=\"Suggest charts\"\n",
              "                style=\"display:none;\">\n",
              "\n",
              "<svg xmlns=\"http://www.w3.org/2000/svg\" height=\"24px\"viewBox=\"0 0 24 24\"\n",
              "     width=\"24px\">\n",
              "    <g>\n",
              "        <path d=\"M19 3H5c-1.1 0-2 .9-2 2v14c0 1.1.9 2 2 2h14c1.1 0 2-.9 2-2V5c0-1.1-.9-2-2-2zM9 17H7v-7h2v7zm4 0h-2V7h2v10zm4 0h-2v-4h2v4z\"/>\n",
              "    </g>\n",
              "</svg>\n",
              "      </button>\n",
              "\n",
              "<style>\n",
              "  .colab-df-quickchart {\n",
              "      --bg-color: #E8F0FE;\n",
              "      --fill-color: #1967D2;\n",
              "      --hover-bg-color: #E2EBFA;\n",
              "      --hover-fill-color: #174EA6;\n",
              "      --disabled-fill-color: #AAA;\n",
              "      --disabled-bg-color: #DDD;\n",
              "  }\n",
              "\n",
              "  [theme=dark] .colab-df-quickchart {\n",
              "      --bg-color: #3B4455;\n",
              "      --fill-color: #D2E3FC;\n",
              "      --hover-bg-color: #434B5C;\n",
              "      --hover-fill-color: #FFFFFF;\n",
              "      --disabled-bg-color: #3B4455;\n",
              "      --disabled-fill-color: #666;\n",
              "  }\n",
              "\n",
              "  .colab-df-quickchart {\n",
              "    background-color: var(--bg-color);\n",
              "    border: none;\n",
              "    border-radius: 50%;\n",
              "    cursor: pointer;\n",
              "    display: none;\n",
              "    fill: var(--fill-color);\n",
              "    height: 32px;\n",
              "    padding: 0;\n",
              "    width: 32px;\n",
              "  }\n",
              "\n",
              "  .colab-df-quickchart:hover {\n",
              "    background-color: var(--hover-bg-color);\n",
              "    box-shadow: 0 1px 2px rgba(60, 64, 67, 0.3), 0 1px 3px 1px rgba(60, 64, 67, 0.15);\n",
              "    fill: var(--button-hover-fill-color);\n",
              "  }\n",
              "\n",
              "  .colab-df-quickchart-complete:disabled,\n",
              "  .colab-df-quickchart-complete:disabled:hover {\n",
              "    background-color: var(--disabled-bg-color);\n",
              "    fill: var(--disabled-fill-color);\n",
              "    box-shadow: none;\n",
              "  }\n",
              "\n",
              "  .colab-df-spinner {\n",
              "    border: 2px solid var(--fill-color);\n",
              "    border-color: transparent;\n",
              "    border-bottom-color: var(--fill-color);\n",
              "    animation:\n",
              "      spin 1s steps(1) infinite;\n",
              "  }\n",
              "\n",
              "  @keyframes spin {\n",
              "    0% {\n",
              "      border-color: transparent;\n",
              "      border-bottom-color: var(--fill-color);\n",
              "      border-left-color: var(--fill-color);\n",
              "    }\n",
              "    20% {\n",
              "      border-color: transparent;\n",
              "      border-left-color: var(--fill-color);\n",
              "      border-top-color: var(--fill-color);\n",
              "    }\n",
              "    30% {\n",
              "      border-color: transparent;\n",
              "      border-left-color: var(--fill-color);\n",
              "      border-top-color: var(--fill-color);\n",
              "      border-right-color: var(--fill-color);\n",
              "    }\n",
              "    40% {\n",
              "      border-color: transparent;\n",
              "      border-right-color: var(--fill-color);\n",
              "      border-top-color: var(--fill-color);\n",
              "    }\n",
              "    60% {\n",
              "      border-color: transparent;\n",
              "      border-right-color: var(--fill-color);\n",
              "    }\n",
              "    80% {\n",
              "      border-color: transparent;\n",
              "      border-right-color: var(--fill-color);\n",
              "      border-bottom-color: var(--fill-color);\n",
              "    }\n",
              "    90% {\n",
              "      border-color: transparent;\n",
              "      border-bottom-color: var(--fill-color);\n",
              "    }\n",
              "  }\n",
              "</style>\n",
              "\n",
              "      <script>\n",
              "        async function quickchart(key) {\n",
              "          const quickchartButtonEl =\n",
              "            document.querySelector('#' + key + ' button');\n",
              "          quickchartButtonEl.disabled = true;  // To prevent multiple clicks.\n",
              "          quickchartButtonEl.classList.add('colab-df-spinner');\n",
              "          try {\n",
              "            const charts = await google.colab.kernel.invokeFunction(\n",
              "                'suggestCharts', [key], {});\n",
              "          } catch (error) {\n",
              "            console.error('Error during call to suggestCharts:', error);\n",
              "          }\n",
              "          quickchartButtonEl.classList.remove('colab-df-spinner');\n",
              "          quickchartButtonEl.classList.add('colab-df-quickchart-complete');\n",
              "        }\n",
              "        (() => {\n",
              "          let quickchartButtonEl =\n",
              "            document.querySelector('#df-0d6fb437-15c9-4123-af38-660e65bd975b button');\n",
              "          quickchartButtonEl.style.display =\n",
              "            google.colab.kernel.accessAllowed ? 'block' : 'none';\n",
              "        })();\n",
              "      </script>\n",
              "    </div>\n",
              "\n",
              "  <div id=\"id_c98c51c1-c690-4278-a6c2-d23bfc9c2cf7\">\n",
              "    <style>\n",
              "      .colab-df-generate {\n",
              "        background-color: #E8F0FE;\n",
              "        border: none;\n",
              "        border-radius: 50%;\n",
              "        cursor: pointer;\n",
              "        display: none;\n",
              "        fill: #1967D2;\n",
              "        height: 32px;\n",
              "        padding: 0 0 0 0;\n",
              "        width: 32px;\n",
              "      }\n",
              "\n",
              "      .colab-df-generate:hover {\n",
              "        background-color: #E2EBFA;\n",
              "        box-shadow: 0px 1px 2px rgba(60, 64, 67, 0.3), 0px 1px 3px 1px rgba(60, 64, 67, 0.15);\n",
              "        fill: #174EA6;\n",
              "      }\n",
              "\n",
              "      [theme=dark] .colab-df-generate {\n",
              "        background-color: #3B4455;\n",
              "        fill: #D2E3FC;\n",
              "      }\n",
              "\n",
              "      [theme=dark] .colab-df-generate:hover {\n",
              "        background-color: #434B5C;\n",
              "        box-shadow: 0px 1px 3px 1px rgba(0, 0, 0, 0.15);\n",
              "        filter: drop-shadow(0px 1px 2px rgba(0, 0, 0, 0.3));\n",
              "        fill: #FFFFFF;\n",
              "      }\n",
              "    </style>\n",
              "    <button class=\"colab-df-generate\" onclick=\"generateWithVariable('df')\"\n",
              "            title=\"Generate code using this dataframe.\"\n",
              "            style=\"display:none;\">\n",
              "\n",
              "  <svg xmlns=\"http://www.w3.org/2000/svg\" height=\"24px\"viewBox=\"0 0 24 24\"\n",
              "       width=\"24px\">\n",
              "    <path d=\"M7,19H8.4L18.45,9,17,7.55,7,17.6ZM5,21V16.75L18.45,3.32a2,2,0,0,1,2.83,0l1.4,1.43a1.91,1.91,0,0,1,.58,1.4,1.91,1.91,0,0,1-.58,1.4L9.25,21ZM18.45,9,17,7.55Zm-12,3A5.31,5.31,0,0,0,4.9,8.1,5.31,5.31,0,0,0,1,6.5,5.31,5.31,0,0,0,4.9,4.9,5.31,5.31,0,0,0,6.5,1,5.31,5.31,0,0,0,8.1,4.9,5.31,5.31,0,0,0,12,6.5,5.46,5.46,0,0,0,6.5,12Z\"/>\n",
              "  </svg>\n",
              "    </button>\n",
              "    <script>\n",
              "      (() => {\n",
              "      const buttonEl =\n",
              "        document.querySelector('#id_c98c51c1-c690-4278-a6c2-d23bfc9c2cf7 button.colab-df-generate');\n",
              "      buttonEl.style.display =\n",
              "        google.colab.kernel.accessAllowed ? 'block' : 'none';\n",
              "\n",
              "      buttonEl.onclick = () => {\n",
              "        google.colab.notebook.generateWithVariable('df');\n",
              "      }\n",
              "      })();\n",
              "    </script>\n",
              "  </div>\n",
              "\n",
              "    </div>\n",
              "  </div>\n"
            ],
            "application/vnd.google.colaboratory.intrinsic+json": {
              "type": "dataframe",
              "variable_name": "df",
              "summary": "{\n  \"name\": \"df\",\n  \"rows\": 4000,\n  \"fields\": [\n    {\n      \"column\": \"NIM\",\n      \"properties\": {\n        \"dtype\": \"string\",\n        \"num_unique_values\": 4000,\n        \"samples\": [\n          \"G1A0220555\",\n          \"G1A02224455\",\n          \"G1A0220527\"\n        ],\n        \"semantic_type\": \"\",\n        \"description\": \"\"\n      }\n    },\n    {\n      \"column\": \"IPK_Semester_1\",\n      \"properties\": {\n        \"dtype\": \"number\",\n        \"std\": 0.5191628182785964,\n        \"min\": 2.0,\n        \"max\": 3.96,\n        \"num_unique_values\": 182,\n        \"samples\": [\n          3.17,\n          3.14,\n          2.18\n        ],\n        \"semantic_type\": \"\",\n        \"description\": \"\"\n      }\n    },\n    {\n      \"column\": \"IPK_Semester_2\",\n      \"properties\": {\n        \"dtype\": \"number\",\n        \"std\": 0.5154675526155381,\n        \"min\": 2.0,\n        \"max\": 4.0,\n        \"num_unique_values\": 187,\n        \"samples\": [\n          3.72,\n          2.31,\n          2.4\n        ],\n        \"semantic_type\": \"\",\n        \"description\": \"\"\n      }\n    },\n    {\n      \"column\": \"IPK_Semester_3\",\n      \"properties\": {\n        \"dtype\": \"number\",\n        \"std\": 0.5166013542699588,\n        \"min\": 2.0,\n        \"max\": 4.0,\n        \"num_unique_values\": 194,\n        \"samples\": [\n          2.02,\n          3.44,\n          2.3\n        ],\n        \"semantic_type\": \"\",\n        \"description\": \"\"\n      }\n    },\n    {\n      \"column\": \"IPK_Semester_4\",\n      \"properties\": {\n        \"dtype\": \"number\",\n        \"std\": 0.5268324653581922,\n        \"min\": 2.0,\n        \"max\": 4.0,\n        \"num_unique_values\": 198,\n        \"samples\": [\n          2.82,\n          3.62,\n          3.06\n        ],\n        \"semantic_type\": \"\",\n        \"description\": \"\"\n      }\n    },\n    {\n      \"column\": \"IPK_Semester_5\",\n      \"properties\": {\n        \"dtype\": \"number\",\n        \"std\": 0.5230460450907466,\n        \"min\": 2.0,\n        \"max\": 4.0,\n        \"num_unique_values\": 196,\n        \"samples\": [\n          2.59,\n          2.19,\n          2.22\n        ],\n        \"semantic_type\": \"\",\n        \"description\": \"\"\n      }\n    },\n    {\n      \"column\": \"IPK_Semester_6\",\n      \"properties\": {\n        \"dtype\": \"number\",\n        \"std\": 0.5309427469547786,\n        \"min\": 2.0,\n        \"max\": 4.0,\n        \"num_unique_values\": 200,\n        \"samples\": [\n          3.26,\n          3.62,\n          3.08\n        ],\n        \"semantic_type\": \"\",\n        \"description\": \"\"\n      }\n    },\n    {\n      \"column\": \"Kehadiran_Per_Mata_Kuliah\",\n      \"properties\": {\n        \"dtype\": \"number\",\n        \"std\": 7.889299884815052,\n        \"min\": 70.0,\n        \"max\": 100.0,\n        \"num_unique_values\": 1998,\n        \"samples\": [\n          89.31,\n          93.46,\n          88.43\n        ],\n        \"semantic_type\": \"\",\n        \"description\": \"\"\n      }\n    },\n    {\n      \"column\": \"Riwayat_Pengambilan_Ulang\",\n      \"properties\": {\n        \"dtype\": \"number\",\n        \"std\": 1,\n        \"min\": 0,\n        \"max\": 4,\n        \"num_unique_values\": 5,\n        \"samples\": [\n          0,\n          3,\n          2\n        ],\n        \"semantic_type\": \"\",\n        \"description\": \"\"\n      }\n    },\n    {\n      \"column\": \"Aktivitas_Sistem_Pembelajaran_Daring\",\n      \"properties\": {\n        \"dtype\": \"number\",\n        \"std\": 20.262292381216675,\n        \"min\": 0.0,\n        \"max\": 100.0,\n        \"num_unique_values\": 3015,\n        \"samples\": [\n          54.95,\n          33.0,\n          38.88\n        ],\n        \"semantic_type\": \"\",\n        \"description\": \"\"\n      }\n    },\n    {\n      \"column\": \"Status_Pekerjaan\",\n      \"properties\": {\n        \"dtype\": \"category\",\n        \"num_unique_values\": 2,\n        \"samples\": [\n          \"Bekerja\",\n          \"Tidak Bekerja\"\n        ],\n        \"semantic_type\": \"\",\n        \"description\": \"\"\n      }\n    },\n    {\n      \"column\": \"Beban_Kerja_JamPerMinggu\",\n      \"properties\": {\n        \"dtype\": \"number\",\n        \"std\": 14,\n        \"min\": 0,\n        \"max\": 40,\n        \"num_unique_values\": 32,\n        \"samples\": [\n          15,\n          38\n        ],\n        \"semantic_type\": \"\",\n        \"description\": \"\"\n      }\n    },\n    {\n      \"column\": \"Status_Ekonomi\",\n      \"properties\": {\n        \"dtype\": \"category\",\n        \"num_unique_values\": 3,\n        \"samples\": [\n          \"Tinggi\",\n          \"Menengah\"\n        ],\n        \"semantic_type\": \"\",\n        \"description\": \"\"\n      }\n    },\n    {\n      \"column\": \"Status_Risiko_DO\",\n      \"properties\": {\n        \"dtype\": \"number\",\n        \"std\": 0,\n        \"min\": 0,\n        \"max\": 1,\n        \"num_unique_values\": 2,\n        \"samples\": [\n          1,\n          0\n        ],\n        \"semantic_type\": \"\",\n        \"description\": \"\"\n      }\n    }\n  ]\n}"
            }
          },
          "metadata": {},
          "execution_count": 4
        }
      ]
    },
    {
      "cell_type": "code",
      "source": [
        "# Tampilkan ringkasan\n",
        "print(\"Jumlah data:\", len(df))\n"
      ],
      "metadata": {
        "colab": {
          "base_uri": "https://localhost:8080/"
        },
        "id": "SKdcB6bF59Q6",
        "outputId": "770e3a73-d34b-4b89-d107-5adbab4331f9"
      },
      "execution_count": 5,
      "outputs": [
        {
          "output_type": "stream",
          "name": "stdout",
          "text": [
            "Jumlah data: 4000\n"
          ]
        }
      ]
    },
    {
      "cell_type": "code",
      "source": [
        "df.info()"
      ],
      "metadata": {
        "colab": {
          "base_uri": "https://localhost:8080/"
        },
        "id": "RSnun7Jx7hl6",
        "outputId": "44d1e60a-2b65-439a-86c3-901d731c8e41"
      },
      "execution_count": 6,
      "outputs": [
        {
          "output_type": "stream",
          "name": "stdout",
          "text": [
            "<class 'pandas.core.frame.DataFrame'>\n",
            "RangeIndex: 4000 entries, 0 to 3999\n",
            "Data columns (total 14 columns):\n",
            " #   Column                                Non-Null Count  Dtype  \n",
            "---  ------                                --------------  -----  \n",
            " 0   NIM                                   4000 non-null   object \n",
            " 1   IPK_Semester_1                        4000 non-null   float64\n",
            " 2   IPK_Semester_2                        4000 non-null   float64\n",
            " 3   IPK_Semester_3                        4000 non-null   float64\n",
            " 4   IPK_Semester_4                        4000 non-null   float64\n",
            " 5   IPK_Semester_5                        4000 non-null   float64\n",
            " 6   IPK_Semester_6                        4000 non-null   float64\n",
            " 7   Kehadiran_Per_Mata_Kuliah             4000 non-null   float64\n",
            " 8   Riwayat_Pengambilan_Ulang             4000 non-null   int64  \n",
            " 9   Aktivitas_Sistem_Pembelajaran_Daring  4000 non-null   float64\n",
            " 10  Status_Pekerjaan                      4000 non-null   object \n",
            " 11  Beban_Kerja_JamPerMinggu              4000 non-null   int64  \n",
            " 12  Status_Ekonomi                        4000 non-null   object \n",
            " 13  Status_Risiko_DO                      4000 non-null   int64  \n",
            "dtypes: float64(8), int64(3), object(3)\n",
            "memory usage: 437.6+ KB\n"
          ]
        }
      ]
    },
    {
      "cell_type": "code",
      "source": [
        "df.describe()"
      ],
      "metadata": {
        "colab": {
          "base_uri": "https://localhost:8080/",
          "height": 320
        },
        "id": "TUTBZZyH7lcX",
        "outputId": "b2cadbbb-965f-429f-e76a-e488e1e41dbf"
      },
      "execution_count": 7,
      "outputs": [
        {
          "output_type": "execute_result",
          "data": {
            "text/plain": [
              "       IPK_Semester_1  IPK_Semester_2  IPK_Semester_3  IPK_Semester_4  \\\n",
              "count     4000.000000     4000.000000     4000.000000     4000.000000   \n",
              "mean         2.742025        2.739830        2.742998        2.747267   \n",
              "std          0.519163        0.515468        0.516601        0.526832   \n",
              "min          2.000000        2.000000        2.000000        2.000000   \n",
              "25%          2.260000        2.270000        2.270000        2.270000   \n",
              "50%          2.710000        2.700000        2.690000        2.690000   \n",
              "75%          3.210000        3.202500        3.210000        3.212500   \n",
              "max          3.960000        4.000000        4.000000        4.000000   \n",
              "\n",
              "       IPK_Semester_5  IPK_Semester_6  Kehadiran_Per_Mata_Kuliah  \\\n",
              "count     4000.000000     4000.000000                4000.000000   \n",
              "mean         2.750323        2.750223                  83.077375   \n",
              "std          0.523046        0.530943                   7.889300   \n",
              "min          2.000000        2.000000                  70.000000   \n",
              "25%          2.280000        2.280000                  76.177500   \n",
              "50%          2.680000        2.680000                  83.590000   \n",
              "75%          3.200000        3.202500                  88.962500   \n",
              "max          4.000000        4.000000                 100.000000   \n",
              "\n",
              "       Riwayat_Pengambilan_Ulang  Aktivitas_Sistem_Pembelajaran_Daring  \\\n",
              "count                4000.000000                           4000.000000   \n",
              "mean                    1.694500                             58.014715   \n",
              "std                     1.305793                             20.262292   \n",
              "min                     0.000000                              0.000000   \n",
              "25%                     1.000000                             42.715000   \n",
              "50%                     1.000000                             58.275000   \n",
              "75%                     3.000000                             72.420000   \n",
              "max                     4.000000                            100.000000   \n",
              "\n",
              "       Beban_Kerja_JamPerMinggu  Status_Risiko_DO  \n",
              "count               4000.000000       4000.000000  \n",
              "mean                  14.054500          0.450000  \n",
              "std                   14.804487          0.497556  \n",
              "min                    0.000000          0.000000  \n",
              "25%                    0.000000          0.000000  \n",
              "50%                   11.000000          0.000000  \n",
              "75%                   29.000000          1.000000  \n",
              "max                   40.000000          1.000000  "
            ],
            "text/html": [
              "\n",
              "  <div id=\"df-e81fedf7-4906-43db-ae78-5eabdbb60135\" class=\"colab-df-container\">\n",
              "    <div>\n",
              "<style scoped>\n",
              "    .dataframe tbody tr th:only-of-type {\n",
              "        vertical-align: middle;\n",
              "    }\n",
              "\n",
              "    .dataframe tbody tr th {\n",
              "        vertical-align: top;\n",
              "    }\n",
              "\n",
              "    .dataframe thead th {\n",
              "        text-align: right;\n",
              "    }\n",
              "</style>\n",
              "<table border=\"1\" class=\"dataframe\">\n",
              "  <thead>\n",
              "    <tr style=\"text-align: right;\">\n",
              "      <th></th>\n",
              "      <th>IPK_Semester_1</th>\n",
              "      <th>IPK_Semester_2</th>\n",
              "      <th>IPK_Semester_3</th>\n",
              "      <th>IPK_Semester_4</th>\n",
              "      <th>IPK_Semester_5</th>\n",
              "      <th>IPK_Semester_6</th>\n",
              "      <th>Kehadiran_Per_Mata_Kuliah</th>\n",
              "      <th>Riwayat_Pengambilan_Ulang</th>\n",
              "      <th>Aktivitas_Sistem_Pembelajaran_Daring</th>\n",
              "      <th>Beban_Kerja_JamPerMinggu</th>\n",
              "      <th>Status_Risiko_DO</th>\n",
              "    </tr>\n",
              "  </thead>\n",
              "  <tbody>\n",
              "    <tr>\n",
              "      <th>count</th>\n",
              "      <td>4000.000000</td>\n",
              "      <td>4000.000000</td>\n",
              "      <td>4000.000000</td>\n",
              "      <td>4000.000000</td>\n",
              "      <td>4000.000000</td>\n",
              "      <td>4000.000000</td>\n",
              "      <td>4000.000000</td>\n",
              "      <td>4000.000000</td>\n",
              "      <td>4000.000000</td>\n",
              "      <td>4000.000000</td>\n",
              "      <td>4000.000000</td>\n",
              "    </tr>\n",
              "    <tr>\n",
              "      <th>mean</th>\n",
              "      <td>2.742025</td>\n",
              "      <td>2.739830</td>\n",
              "      <td>2.742998</td>\n",
              "      <td>2.747267</td>\n",
              "      <td>2.750323</td>\n",
              "      <td>2.750223</td>\n",
              "      <td>83.077375</td>\n",
              "      <td>1.694500</td>\n",
              "      <td>58.014715</td>\n",
              "      <td>14.054500</td>\n",
              "      <td>0.450000</td>\n",
              "    </tr>\n",
              "    <tr>\n",
              "      <th>std</th>\n",
              "      <td>0.519163</td>\n",
              "      <td>0.515468</td>\n",
              "      <td>0.516601</td>\n",
              "      <td>0.526832</td>\n",
              "      <td>0.523046</td>\n",
              "      <td>0.530943</td>\n",
              "      <td>7.889300</td>\n",
              "      <td>1.305793</td>\n",
              "      <td>20.262292</td>\n",
              "      <td>14.804487</td>\n",
              "      <td>0.497556</td>\n",
              "    </tr>\n",
              "    <tr>\n",
              "      <th>min</th>\n",
              "      <td>2.000000</td>\n",
              "      <td>2.000000</td>\n",
              "      <td>2.000000</td>\n",
              "      <td>2.000000</td>\n",
              "      <td>2.000000</td>\n",
              "      <td>2.000000</td>\n",
              "      <td>70.000000</td>\n",
              "      <td>0.000000</td>\n",
              "      <td>0.000000</td>\n",
              "      <td>0.000000</td>\n",
              "      <td>0.000000</td>\n",
              "    </tr>\n",
              "    <tr>\n",
              "      <th>25%</th>\n",
              "      <td>2.260000</td>\n",
              "      <td>2.270000</td>\n",
              "      <td>2.270000</td>\n",
              "      <td>2.270000</td>\n",
              "      <td>2.280000</td>\n",
              "      <td>2.280000</td>\n",
              "      <td>76.177500</td>\n",
              "      <td>1.000000</td>\n",
              "      <td>42.715000</td>\n",
              "      <td>0.000000</td>\n",
              "      <td>0.000000</td>\n",
              "    </tr>\n",
              "    <tr>\n",
              "      <th>50%</th>\n",
              "      <td>2.710000</td>\n",
              "      <td>2.700000</td>\n",
              "      <td>2.690000</td>\n",
              "      <td>2.690000</td>\n",
              "      <td>2.680000</td>\n",
              "      <td>2.680000</td>\n",
              "      <td>83.590000</td>\n",
              "      <td>1.000000</td>\n",
              "      <td>58.275000</td>\n",
              "      <td>11.000000</td>\n",
              "      <td>0.000000</td>\n",
              "    </tr>\n",
              "    <tr>\n",
              "      <th>75%</th>\n",
              "      <td>3.210000</td>\n",
              "      <td>3.202500</td>\n",
              "      <td>3.210000</td>\n",
              "      <td>3.212500</td>\n",
              "      <td>3.200000</td>\n",
              "      <td>3.202500</td>\n",
              "      <td>88.962500</td>\n",
              "      <td>3.000000</td>\n",
              "      <td>72.420000</td>\n",
              "      <td>29.000000</td>\n",
              "      <td>1.000000</td>\n",
              "    </tr>\n",
              "    <tr>\n",
              "      <th>max</th>\n",
              "      <td>3.960000</td>\n",
              "      <td>4.000000</td>\n",
              "      <td>4.000000</td>\n",
              "      <td>4.000000</td>\n",
              "      <td>4.000000</td>\n",
              "      <td>4.000000</td>\n",
              "      <td>100.000000</td>\n",
              "      <td>4.000000</td>\n",
              "      <td>100.000000</td>\n",
              "      <td>40.000000</td>\n",
              "      <td>1.000000</td>\n",
              "    </tr>\n",
              "  </tbody>\n",
              "</table>\n",
              "</div>\n",
              "    <div class=\"colab-df-buttons\">\n",
              "\n",
              "  <div class=\"colab-df-container\">\n",
              "    <button class=\"colab-df-convert\" onclick=\"convertToInteractive('df-e81fedf7-4906-43db-ae78-5eabdbb60135')\"\n",
              "            title=\"Convert this dataframe to an interactive table.\"\n",
              "            style=\"display:none;\">\n",
              "\n",
              "  <svg xmlns=\"http://www.w3.org/2000/svg\" height=\"24px\" viewBox=\"0 -960 960 960\">\n",
              "    <path d=\"M120-120v-720h720v720H120Zm60-500h600v-160H180v160Zm220 220h160v-160H400v160Zm0 220h160v-160H400v160ZM180-400h160v-160H180v160Zm440 0h160v-160H620v160ZM180-180h160v-160H180v160Zm440 0h160v-160H620v160Z\"/>\n",
              "  </svg>\n",
              "    </button>\n",
              "\n",
              "  <style>\n",
              "    .colab-df-container {\n",
              "      display:flex;\n",
              "      gap: 12px;\n",
              "    }\n",
              "\n",
              "    .colab-df-convert {\n",
              "      background-color: #E8F0FE;\n",
              "      border: none;\n",
              "      border-radius: 50%;\n",
              "      cursor: pointer;\n",
              "      display: none;\n",
              "      fill: #1967D2;\n",
              "      height: 32px;\n",
              "      padding: 0 0 0 0;\n",
              "      width: 32px;\n",
              "    }\n",
              "\n",
              "    .colab-df-convert:hover {\n",
              "      background-color: #E2EBFA;\n",
              "      box-shadow: 0px 1px 2px rgba(60, 64, 67, 0.3), 0px 1px 3px 1px rgba(60, 64, 67, 0.15);\n",
              "      fill: #174EA6;\n",
              "    }\n",
              "\n",
              "    .colab-df-buttons div {\n",
              "      margin-bottom: 4px;\n",
              "    }\n",
              "\n",
              "    [theme=dark] .colab-df-convert {\n",
              "      background-color: #3B4455;\n",
              "      fill: #D2E3FC;\n",
              "    }\n",
              "\n",
              "    [theme=dark] .colab-df-convert:hover {\n",
              "      background-color: #434B5C;\n",
              "      box-shadow: 0px 1px 3px 1px rgba(0, 0, 0, 0.15);\n",
              "      filter: drop-shadow(0px 1px 2px rgba(0, 0, 0, 0.3));\n",
              "      fill: #FFFFFF;\n",
              "    }\n",
              "  </style>\n",
              "\n",
              "    <script>\n",
              "      const buttonEl =\n",
              "        document.querySelector('#df-e81fedf7-4906-43db-ae78-5eabdbb60135 button.colab-df-convert');\n",
              "      buttonEl.style.display =\n",
              "        google.colab.kernel.accessAllowed ? 'block' : 'none';\n",
              "\n",
              "      async function convertToInteractive(key) {\n",
              "        const element = document.querySelector('#df-e81fedf7-4906-43db-ae78-5eabdbb60135');\n",
              "        const dataTable =\n",
              "          await google.colab.kernel.invokeFunction('convertToInteractive',\n",
              "                                                    [key], {});\n",
              "        if (!dataTable) return;\n",
              "\n",
              "        const docLinkHtml = 'Like what you see? Visit the ' +\n",
              "          '<a target=\"_blank\" href=https://colab.research.google.com/notebooks/data_table.ipynb>data table notebook</a>'\n",
              "          + ' to learn more about interactive tables.';\n",
              "        element.innerHTML = '';\n",
              "        dataTable['output_type'] = 'display_data';\n",
              "        await google.colab.output.renderOutput(dataTable, element);\n",
              "        const docLink = document.createElement('div');\n",
              "        docLink.innerHTML = docLinkHtml;\n",
              "        element.appendChild(docLink);\n",
              "      }\n",
              "    </script>\n",
              "  </div>\n",
              "\n",
              "\n",
              "    <div id=\"df-46f3a5e4-026d-4cca-82e0-8360c09e209a\">\n",
              "      <button class=\"colab-df-quickchart\" onclick=\"quickchart('df-46f3a5e4-026d-4cca-82e0-8360c09e209a')\"\n",
              "                title=\"Suggest charts\"\n",
              "                style=\"display:none;\">\n",
              "\n",
              "<svg xmlns=\"http://www.w3.org/2000/svg\" height=\"24px\"viewBox=\"0 0 24 24\"\n",
              "     width=\"24px\">\n",
              "    <g>\n",
              "        <path d=\"M19 3H5c-1.1 0-2 .9-2 2v14c0 1.1.9 2 2 2h14c1.1 0 2-.9 2-2V5c0-1.1-.9-2-2-2zM9 17H7v-7h2v7zm4 0h-2V7h2v10zm4 0h-2v-4h2v4z\"/>\n",
              "    </g>\n",
              "</svg>\n",
              "      </button>\n",
              "\n",
              "<style>\n",
              "  .colab-df-quickchart {\n",
              "      --bg-color: #E8F0FE;\n",
              "      --fill-color: #1967D2;\n",
              "      --hover-bg-color: #E2EBFA;\n",
              "      --hover-fill-color: #174EA6;\n",
              "      --disabled-fill-color: #AAA;\n",
              "      --disabled-bg-color: #DDD;\n",
              "  }\n",
              "\n",
              "  [theme=dark] .colab-df-quickchart {\n",
              "      --bg-color: #3B4455;\n",
              "      --fill-color: #D2E3FC;\n",
              "      --hover-bg-color: #434B5C;\n",
              "      --hover-fill-color: #FFFFFF;\n",
              "      --disabled-bg-color: #3B4455;\n",
              "      --disabled-fill-color: #666;\n",
              "  }\n",
              "\n",
              "  .colab-df-quickchart {\n",
              "    background-color: var(--bg-color);\n",
              "    border: none;\n",
              "    border-radius: 50%;\n",
              "    cursor: pointer;\n",
              "    display: none;\n",
              "    fill: var(--fill-color);\n",
              "    height: 32px;\n",
              "    padding: 0;\n",
              "    width: 32px;\n",
              "  }\n",
              "\n",
              "  .colab-df-quickchart:hover {\n",
              "    background-color: var(--hover-bg-color);\n",
              "    box-shadow: 0 1px 2px rgba(60, 64, 67, 0.3), 0 1px 3px 1px rgba(60, 64, 67, 0.15);\n",
              "    fill: var(--button-hover-fill-color);\n",
              "  }\n",
              "\n",
              "  .colab-df-quickchart-complete:disabled,\n",
              "  .colab-df-quickchart-complete:disabled:hover {\n",
              "    background-color: var(--disabled-bg-color);\n",
              "    fill: var(--disabled-fill-color);\n",
              "    box-shadow: none;\n",
              "  }\n",
              "\n",
              "  .colab-df-spinner {\n",
              "    border: 2px solid var(--fill-color);\n",
              "    border-color: transparent;\n",
              "    border-bottom-color: var(--fill-color);\n",
              "    animation:\n",
              "      spin 1s steps(1) infinite;\n",
              "  }\n",
              "\n",
              "  @keyframes spin {\n",
              "    0% {\n",
              "      border-color: transparent;\n",
              "      border-bottom-color: var(--fill-color);\n",
              "      border-left-color: var(--fill-color);\n",
              "    }\n",
              "    20% {\n",
              "      border-color: transparent;\n",
              "      border-left-color: var(--fill-color);\n",
              "      border-top-color: var(--fill-color);\n",
              "    }\n",
              "    30% {\n",
              "      border-color: transparent;\n",
              "      border-left-color: var(--fill-color);\n",
              "      border-top-color: var(--fill-color);\n",
              "      border-right-color: var(--fill-color);\n",
              "    }\n",
              "    40% {\n",
              "      border-color: transparent;\n",
              "      border-right-color: var(--fill-color);\n",
              "      border-top-color: var(--fill-color);\n",
              "    }\n",
              "    60% {\n",
              "      border-color: transparent;\n",
              "      border-right-color: var(--fill-color);\n",
              "    }\n",
              "    80% {\n",
              "      border-color: transparent;\n",
              "      border-right-color: var(--fill-color);\n",
              "      border-bottom-color: var(--fill-color);\n",
              "    }\n",
              "    90% {\n",
              "      border-color: transparent;\n",
              "      border-bottom-color: var(--fill-color);\n",
              "    }\n",
              "  }\n",
              "</style>\n",
              "\n",
              "      <script>\n",
              "        async function quickchart(key) {\n",
              "          const quickchartButtonEl =\n",
              "            document.querySelector('#' + key + ' button');\n",
              "          quickchartButtonEl.disabled = true;  // To prevent multiple clicks.\n",
              "          quickchartButtonEl.classList.add('colab-df-spinner');\n",
              "          try {\n",
              "            const charts = await google.colab.kernel.invokeFunction(\n",
              "                'suggestCharts', [key], {});\n",
              "          } catch (error) {\n",
              "            console.error('Error during call to suggestCharts:', error);\n",
              "          }\n",
              "          quickchartButtonEl.classList.remove('colab-df-spinner');\n",
              "          quickchartButtonEl.classList.add('colab-df-quickchart-complete');\n",
              "        }\n",
              "        (() => {\n",
              "          let quickchartButtonEl =\n",
              "            document.querySelector('#df-46f3a5e4-026d-4cca-82e0-8360c09e209a button');\n",
              "          quickchartButtonEl.style.display =\n",
              "            google.colab.kernel.accessAllowed ? 'block' : 'none';\n",
              "        })();\n",
              "      </script>\n",
              "    </div>\n",
              "\n",
              "    </div>\n",
              "  </div>\n"
            ],
            "application/vnd.google.colaboratory.intrinsic+json": {
              "type": "dataframe",
              "summary": "{\n  \"name\": \"df\",\n  \"rows\": 8,\n  \"fields\": [\n    {\n      \"column\": \"IPK_Semester_1\",\n      \"properties\": {\n        \"dtype\": \"number\",\n        \"std\": 1413.3350218364296,\n        \"min\": 0.5191628182785964,\n        \"max\": 4000.0,\n        \"num_unique_values\": 8,\n        \"samples\": [\n          2.7420249999999995,\n          2.71,\n          4000.0\n        ],\n        \"semantic_type\": \"\",\n        \"description\": \"\"\n      }\n    },\n    {\n      \"column\": \"IPK_Semester_2\",\n      \"properties\": {\n        \"dtype\": \"number\",\n        \"std\": 1413.333683565861,\n        \"min\": 0.5154675526155381,\n        \"max\": 4000.0,\n        \"num_unique_values\": 8,\n        \"samples\": [\n          2.73983,\n          2.7,\n          4000.0\n        ],\n        \"semantic_type\": \"\",\n        \"description\": \"\"\n      }\n    },\n    {\n      \"column\": \"IPK_Semester_3\",\n      \"properties\": {\n        \"dtype\": \"number\",\n        \"std\": 1413.333592776487,\n        \"min\": 0.5166013542699588,\n        \"max\": 4000.0,\n        \"num_unique_values\": 8,\n        \"samples\": [\n          2.7429975000000004,\n          2.69,\n          4000.0\n        ],\n        \"semantic_type\": \"\",\n        \"description\": \"\"\n      }\n    },\n    {\n      \"column\": \"IPK_Semester_4\",\n      \"properties\": {\n        \"dtype\": \"number\",\n        \"std\": 1413.3327323458227,\n        \"min\": 0.5268324653581922,\n        \"max\": 4000.0,\n        \"num_unique_values\": 8,\n        \"samples\": [\n          2.7472675,\n          2.69,\n          4000.0\n        ],\n        \"semantic_type\": \"\",\n        \"description\": \"\"\n      }\n    },\n    {\n      \"column\": \"IPK_Semester_5\",\n      \"properties\": {\n        \"dtype\": \"number\",\n        \"std\": 1413.3334001478092,\n        \"min\": 0.5230460450907466,\n        \"max\": 4000.0,\n        \"num_unique_values\": 8,\n        \"samples\": [\n          2.7503225000000002,\n          2.68,\n          4000.0\n        ],\n        \"semantic_type\": \"\",\n        \"description\": \"\"\n      }\n    },\n    {\n      \"column\": \"IPK_Semester_6\",\n      \"properties\": {\n        \"dtype\": \"number\",\n        \"std\": 1413.332878694953,\n        \"min\": 0.5309427469547786,\n        \"max\": 4000.0,\n        \"num_unique_values\": 8,\n        \"samples\": [\n          2.7502225,\n          2.68,\n          4000.0\n        ],\n        \"semantic_type\": \"\",\n        \"description\": \"\"\n      }\n    },\n    {\n      \"column\": \"Kehadiran_Per_Mata_Kuliah\",\n      \"properties\": {\n        \"dtype\": \"number\",\n        \"std\": 1388.7506309561982,\n        \"min\": 7.889299884815052,\n        \"max\": 4000.0,\n        \"num_unique_values\": 8,\n        \"samples\": [\n          83.077375,\n          83.59,\n          4000.0\n        ],\n        \"semantic_type\": \"\",\n        \"description\": \"\"\n      }\n    },\n    {\n      \"column\": \"Riwayat_Pengambilan_Ulang\",\n      \"properties\": {\n        \"dtype\": \"number\",\n        \"std\": 1413.6080120584954,\n        \"min\": 0.0,\n        \"max\": 4000.0,\n        \"num_unique_values\": 7,\n        \"samples\": [\n          4000.0,\n          1.6945,\n          3.0\n        ],\n        \"semantic_type\": \"\",\n        \"description\": \"\"\n      }\n    },\n    {\n      \"column\": \"Aktivitas_Sistem_Pembelajaran_Daring\",\n      \"properties\": {\n        \"dtype\": \"number\",\n        \"std\": 1396.7868226051003,\n        \"min\": 0.0,\n        \"max\": 4000.0,\n        \"num_unique_values\": 8,\n        \"samples\": [\n          58.014714999999995,\n          58.275000000000006,\n          4000.0\n        ],\n        \"semantic_type\": \"\",\n        \"description\": \"\"\n      }\n    },\n    {\n      \"column\": \"Beban_Kerja_JamPerMinggu\",\n      \"properties\": {\n        \"dtype\": \"number\",\n        \"std\": 1408.7805481713242,\n        \"min\": 0.0,\n        \"max\": 4000.0,\n        \"num_unique_values\": 7,\n        \"samples\": [\n          4000.0,\n          14.0545,\n          29.0\n        ],\n        \"semantic_type\": \"\",\n        \"description\": \"\"\n      }\n    },\n    {\n      \"column\": \"Status_Risiko_DO\",\n      \"properties\": {\n        \"dtype\": \"number\",\n        \"std\": 1414.0647493830493,\n        \"min\": 0.0,\n        \"max\": 4000.0,\n        \"num_unique_values\": 5,\n        \"samples\": [\n          0.45,\n          1.0,\n          0.4975559169305664\n        ],\n        \"semantic_type\": \"\",\n        \"description\": \"\"\n      }\n    }\n  ]\n}"
            }
          },
          "metadata": {},
          "execution_count": 7
        }
      ]
    },
    {
      "cell_type": "code",
      "source": [
        "df.shape"
      ],
      "metadata": {
        "colab": {
          "base_uri": "https://localhost:8080/"
        },
        "id": "XJoviS21hJrg",
        "outputId": "12b648b2-bf5a-4bda-c160-60062e9fe863"
      },
      "execution_count": 8,
      "outputs": [
        {
          "output_type": "execute_result",
          "data": {
            "text/plain": [
              "(4000, 14)"
            ]
          },
          "metadata": {},
          "execution_count": 8
        }
      ]
    },
    {
      "cell_type": "markdown",
      "source": [
        "###2.3 Cek Kelengkapan Data"
      ],
      "metadata": {
        "id": "UDa-o775hK2f"
      }
    },
    {
      "cell_type": "code",
      "source": [
        "df.duplicated().sum()"
      ],
      "metadata": {
        "colab": {
          "base_uri": "https://localhost:8080/"
        },
        "id": "tyb26JtnhbQz",
        "outputId": "a27a632b-30c6-4810-f51a-7057b4dc0cd8"
      },
      "execution_count": 9,
      "outputs": [
        {
          "output_type": "execute_result",
          "data": {
            "text/plain": [
              "np.int64(0)"
            ]
          },
          "metadata": {},
          "execution_count": 9
        }
      ]
    },
    {
      "cell_type": "code",
      "source": [
        "df.Status_Risiko_DO.value_counts(normalize=True)"
      ],
      "metadata": {
        "colab": {
          "base_uri": "https://localhost:8080/",
          "height": 178
        },
        "id": "Gd8NXzrkhkRb",
        "outputId": "10835819-6313-4325-c50a-4101f9c3ce96"
      },
      "execution_count": 10,
      "outputs": [
        {
          "output_type": "execute_result",
          "data": {
            "text/plain": [
              "Status_Risiko_DO\n",
              "0    0.55\n",
              "1    0.45\n",
              "Name: proportion, dtype: float64"
            ],
            "text/html": [
              "<div>\n",
              "<style scoped>\n",
              "    .dataframe tbody tr th:only-of-type {\n",
              "        vertical-align: middle;\n",
              "    }\n",
              "\n",
              "    .dataframe tbody tr th {\n",
              "        vertical-align: top;\n",
              "    }\n",
              "\n",
              "    .dataframe thead th {\n",
              "        text-align: right;\n",
              "    }\n",
              "</style>\n",
              "<table border=\"1\" class=\"dataframe\">\n",
              "  <thead>\n",
              "    <tr style=\"text-align: right;\">\n",
              "      <th></th>\n",
              "      <th>proportion</th>\n",
              "    </tr>\n",
              "    <tr>\n",
              "      <th>Status_Risiko_DO</th>\n",
              "      <th></th>\n",
              "    </tr>\n",
              "  </thead>\n",
              "  <tbody>\n",
              "    <tr>\n",
              "      <th>0</th>\n",
              "      <td>0.55</td>\n",
              "    </tr>\n",
              "    <tr>\n",
              "      <th>1</th>\n",
              "      <td>0.45</td>\n",
              "    </tr>\n",
              "  </tbody>\n",
              "</table>\n",
              "</div><br><label><b>dtype:</b> float64</label>"
            ]
          },
          "metadata": {},
          "execution_count": 10
        }
      ]
    },
    {
      "cell_type": "code",
      "source": [
        "df.isnull().sum()"
      ],
      "metadata": {
        "colab": {
          "base_uri": "https://localhost:8080/",
          "height": 523
        },
        "id": "5YkhN-3kjO61",
        "outputId": "5978fda1-536c-4c3c-fc94-e286e86f3260"
      },
      "execution_count": 11,
      "outputs": [
        {
          "output_type": "execute_result",
          "data": {
            "text/plain": [
              "NIM                                     0\n",
              "IPK_Semester_1                          0\n",
              "IPK_Semester_2                          0\n",
              "IPK_Semester_3                          0\n",
              "IPK_Semester_4                          0\n",
              "IPK_Semester_5                          0\n",
              "IPK_Semester_6                          0\n",
              "Kehadiran_Per_Mata_Kuliah               0\n",
              "Riwayat_Pengambilan_Ulang               0\n",
              "Aktivitas_Sistem_Pembelajaran_Daring    0\n",
              "Status_Pekerjaan                        0\n",
              "Beban_Kerja_JamPerMinggu                0\n",
              "Status_Ekonomi                          0\n",
              "Status_Risiko_DO                        0\n",
              "dtype: int64"
            ],
            "text/html": [
              "<div>\n",
              "<style scoped>\n",
              "    .dataframe tbody tr th:only-of-type {\n",
              "        vertical-align: middle;\n",
              "    }\n",
              "\n",
              "    .dataframe tbody tr th {\n",
              "        vertical-align: top;\n",
              "    }\n",
              "\n",
              "    .dataframe thead th {\n",
              "        text-align: right;\n",
              "    }\n",
              "</style>\n",
              "<table border=\"1\" class=\"dataframe\">\n",
              "  <thead>\n",
              "    <tr style=\"text-align: right;\">\n",
              "      <th></th>\n",
              "      <th>0</th>\n",
              "    </tr>\n",
              "  </thead>\n",
              "  <tbody>\n",
              "    <tr>\n",
              "      <th>NIM</th>\n",
              "      <td>0</td>\n",
              "    </tr>\n",
              "    <tr>\n",
              "      <th>IPK_Semester_1</th>\n",
              "      <td>0</td>\n",
              "    </tr>\n",
              "    <tr>\n",
              "      <th>IPK_Semester_2</th>\n",
              "      <td>0</td>\n",
              "    </tr>\n",
              "    <tr>\n",
              "      <th>IPK_Semester_3</th>\n",
              "      <td>0</td>\n",
              "    </tr>\n",
              "    <tr>\n",
              "      <th>IPK_Semester_4</th>\n",
              "      <td>0</td>\n",
              "    </tr>\n",
              "    <tr>\n",
              "      <th>IPK_Semester_5</th>\n",
              "      <td>0</td>\n",
              "    </tr>\n",
              "    <tr>\n",
              "      <th>IPK_Semester_6</th>\n",
              "      <td>0</td>\n",
              "    </tr>\n",
              "    <tr>\n",
              "      <th>Kehadiran_Per_Mata_Kuliah</th>\n",
              "      <td>0</td>\n",
              "    </tr>\n",
              "    <tr>\n",
              "      <th>Riwayat_Pengambilan_Ulang</th>\n",
              "      <td>0</td>\n",
              "    </tr>\n",
              "    <tr>\n",
              "      <th>Aktivitas_Sistem_Pembelajaran_Daring</th>\n",
              "      <td>0</td>\n",
              "    </tr>\n",
              "    <tr>\n",
              "      <th>Status_Pekerjaan</th>\n",
              "      <td>0</td>\n",
              "    </tr>\n",
              "    <tr>\n",
              "      <th>Beban_Kerja_JamPerMinggu</th>\n",
              "      <td>0</td>\n",
              "    </tr>\n",
              "    <tr>\n",
              "      <th>Status_Ekonomi</th>\n",
              "      <td>0</td>\n",
              "    </tr>\n",
              "    <tr>\n",
              "      <th>Status_Risiko_DO</th>\n",
              "      <td>0</td>\n",
              "    </tr>\n",
              "  </tbody>\n",
              "</table>\n",
              "</div><br><label><b>dtype:</b> int64</label>"
            ]
          },
          "metadata": {},
          "execution_count": 11
        }
      ]
    },
    {
      "cell_type": "code",
      "source": [
        "# Visualisasi Outlier\n",
        "df_outlier=df.select_dtypes(exclude=['object'])\n",
        "for column in df_outlier:\n",
        "        plt.figure()\n",
        "        sns.boxplot(data=df_outlier, x=column)"
      ],
      "metadata": {
        "colab": {
          "base_uri": "https://localhost:8080/",
          "height": 1000
        },
        "id": "zUjgy6TKjO3Z",
        "outputId": "1c3ae1fa-fd10-4382-ae16-92a12ae36463"
      },
      "execution_count": 12,
      "outputs": [
        {
          "output_type": "display_data",
          "data": {
            "text/plain": [
              "<Figure size 640x480 with 1 Axes>"
            ],
            "image/png": "[encoded data removed]"
          },
          "metadata": {}
        },
        {
          "output_type": "display_data",
          "data": {
            "text/plain": [
              "<Figure size 640x480 with 1 Axes>"
            ],
            "image/png": "[encoded data removed]"
          },
          "metadata": {}
        },
        {
          "output_type": "display_data",
          "data": {
            "text/plain": [
              "<Figure size 640x480 with 1 Axes>"
            ],
            "image/png": "[encoded data removed]"
          },
          "metadata": {}
        },
        {
          "output_type": "display_data",
          "data": {
            "text/plain": [
              "<Figure size 640x480 with 1 Axes>"
            ],
            "image/png": "[encoded data removed]"
          },
          "metadata": {}
        },
        {
          "output_type": "display_data",
          "data": {
            "text/plain": [
              "<Figure size 640x480 with 1 Axes>"
            ],
            "image/png": "[encoded data removed]"
          },
          "metadata": {}
        },
        {
          "output_type": "display_data",
          "data": {
            "text/plain": [
              "<Figure size 640x480 with 1 Axes>"
            ],
            "image/png": "[encoded data removed]"
          },
          "metadata": {}
        },
        {
          "output_type": "display_data",
          "data": {
            "text/plain": [
              "<Figure size 640x480 with 1 Axes>"
            ],
            "image/png": "[encoded data removed]"
          },
          "metadata": {}
        },
        {
          "output_type": "display_data",
          "data": {
            "text/plain": [
              "<Figure size 640x480 with 1 Axes>"
            ],
            "image/png": "[encoded data removed]"
          },
          "metadata": {}
        },
        {
          "output_type": "display_data",
          "data": {
            "text/plain": [
              "<Figure size 640x480 with 1 Axes>"
            ],
            "image/png": "[encoded data removed]"
          },
          "metadata": {}
        },
        {
          "output_type": "display_data",
          "data": {
            "text/plain": [
              "<Figure size 640x480 with 1 Axes>"
            ],
            "image/png": "[encoded data removed]"
          },
          "metadata": {}
        },
        {
          "output_type": "display_data",
          "data": {
            "text/plain": [
              "<Figure size 640x480 with 1 Axes>"
            ],
            "image/png": "[encoded data removed]"
          },
          "metadata": {}
        }
      ]
    },
    {
      "cell_type": "markdown",
      "source": [
        "Tidak ada outlier yang terdeteksi"
      ],
      "metadata": {
        "id": "0DDZ4hTDjq6O"
      }
    },
    {
      "cell_type": "markdown",
      "source": [
        "###2.4 Univariate Analysis"
      ],
      "metadata": {
        "id": "i28gJimxj3-4"
      }
    },
    {
      "cell_type": "code",
      "source": [
        "# Calculate the percentage distribution of dropout risk status\n",
        "dropout_risk_counts = df['Status_Risiko_DO'].value_counts(normalize=True)\n",
        "\n",
        "# Create a bar chart\n",
        "dropout_risk_counts.plot(kind='bar')\n",
        "plt.title('Persentase Risiko Dropout Mahasiswa')\n",
        "plt.xlabel('Status Risiko DO (0 = Aman, 1 = Risiko Tinggi')\n",
        "plt.ylabel('Persentase')\n",
        "plt.xticks(rotation=0)\n",
        "plt.show()"
      ],
      "metadata": {
        "colab": {
          "base_uri": "https://localhost:8080/",
          "height": 472
        },
        "id": "r0GXK1c8jO0L",
        "outputId": "ba65d2ce-e5b0-4a43-e77f-b01d6395be60"
      },
      "execution_count": 13,
      "outputs": [
        {
          "output_type": "display_data",
          "data": {
            "text/plain": [
              "<Figure size 640x480 with 1 Axes>"
            ],
            "image/png": "[encoded data removed]"
          },
          "metadata": {}
        }
      ]
    },
    {
      "cell_type": "code",
      "source": [
        "# Menghitung frekuensi dan persentase untuk Status_Pekerjaan\n",
        "print(\"Frekuensi dan Persentase untuk Status Pekerjaan:\")\n",
        "status_pekerjaan_counts = df['Status_Pekerjaan'].value_counts()\n",
        "status_pekerjaan_percent = df['Status_Pekerjaan'].value_counts(normalize=True) * 100\n",
        "print(pd.DataFrame({\n",
        "    'Jumlah': status_pekerjaan_counts,\n",
        "    'Persentase (%)': status_pekerjaan_percent\n",
        "}))\n",
        "print(\"\\n\")\n",
        "\n",
        "# --- Diagram Batang ---\n",
        "plt.figure(figsize=(8, 6))\n",
        "sns.countplot(x='Status_Pekerjaan', data=df)\n",
        "plt.title('Frekuensi Status Pekerjaan')\n",
        "plt.xlabel('Status Pekerjaan')\n",
        "plt.ylabel('Jumlah')\n",
        "plt.xticks(rotation=45)\n",
        "plt.show()\n",
        "\n",
        "# --- Diagram Lingkaran ---\n",
        "plt.figure(figsize=(8, 6))\n",
        "df['Status_Pekerjaan'].value_counts().plot(kind='pie', autopct='%1.2f%%', startangle=90)\n",
        "plt.title('Distribusi Persentase Status Pekerjaan')\n",
        "plt.ylabel('')  # Menghilangkan label y untuk tampilan lebih rapi\n",
        "plt.show()"
      ],
      "metadata": {
        "colab": {
          "base_uri": "https://localhost:8080/",
          "height": 1000
        },
        "id": "EtFxx8S7jOxL",
        "outputId": "a91227df-a4d3-4a90-e438-8d5df4b2b666"
      },
      "execution_count": 14,
      "outputs": [
        {
          "output_type": "stream",
          "name": "stdout",
          "text": [
            "Frekuensi dan Persentase untuk Status Pekerjaan:\n",
            "                  Jumlah  Persentase (%)\n",
            "Status_Pekerjaan                        \n",
            "Bekerja             2121          53.025\n",
            "Tidak Bekerja       1879          46.975\n",
            "\n",
            "\n"
          ]
        },
        {
          "output_type": "display_data",
          "data": {
            "text/plain": [
              "<Figure size 800x600 with 1 Axes>"
            ],
            "image/png": "[encoded data removed]"
          },
          "metadata": {}
        },
        {
          "output_type": "display_data",
          "data": {
            "text/plain": [
              "<Figure size 800x600 with 1 Axes>"
            ],
            "image/png": "[encoded data removed]"
          },
          "metadata": {}
        }
      ]
    },
    {
      "cell_type": "code",
      "source": [
        "# Menghitung frekuensi dan persentase untuk Status_Ekonomi\n",
        "print(\"Frekuensi dan Persentase untuk Status Ekonomi:\")\n",
        "status_ekonomi_counts = df['Status_Ekonomi'].value_counts()\n",
        "status_ekonomi_percent = df['Status_Ekonomi'].value_counts(normalize=True) * 100\n",
        "print(pd.DataFrame({\n",
        "    'Jumlah': status_ekonomi_counts,\n",
        "    'Persentase (%)': status_ekonomi_percent\n",
        "}))\n",
        "print(\"\\n\")\n",
        "\n",
        "# --- Diagram Batang ---\n",
        "plt.figure(figsize=(8, 6))\n",
        "sns.countplot(x='Status_Ekonomi', data=df)\n",
        "plt.title('Frekuensi Status Ekonomi')\n",
        "plt.xlabel('Status Ekonomi')\n",
        "plt.ylabel('Jumlah')\n",
        "plt.xticks(rotation=45)\n",
        "plt.show()\n",
        "\n",
        "# --- Diagram Lingkaran ---\n",
        "plt.figure(figsize=(8, 6))\n",
        "df['Status_Ekonomi'].value_counts().plot(kind='pie', autopct='%1.2f%%', startangle=90)\n",
        "plt.title('Distribusi Persentase Status Ekonomi')\n",
        "plt.ylabel('')  # Menghilangkan label y untuk tampilan lebih rapi\n",
        "plt.show()"
      ],
      "metadata": {
        "colab": {
          "base_uri": "https://localhost:8080/",
          "height": 1000
        },
        "id": "FtjYjDJLoElZ",
        "outputId": "5f451b9c-a2f8-4cf1-daa1-8de44997f357"
      },
      "execution_count": 15,
      "outputs": [
        {
          "output_type": "stream",
          "name": "stdout",
          "text": [
            "Frekuensi dan Persentase untuk Status Ekonomi:\n",
            "                Jumlah  Persentase (%)\n",
            "Status_Ekonomi                        \n",
            "Menengah          1779          44.475\n",
            "Rendah            1593          39.825\n",
            "Tinggi             628          15.700\n",
            "\n",
            "\n"
          ]
        },
        {
          "output_type": "display_data",
          "data": {
            "text/plain": [
              "<Figure size 800x600 with 1 Axes>"
            ],
            "image/png": "[encoded data removed]"
          },
          "metadata": {}
        },
        {
          "output_type": "display_data",
          "data": {
            "text/plain": [
              "<Figure size 800x600 with 1 Axes>"
            ],
            "image/png": "[encoded data removed]"
          },
          "metadata": {}
        }
      ]
    },
    {
      "cell_type": "code",
      "source": [
        "# --- Daftar Kolom Numerik + Label Encoded ---\n",
        "numerical_cols = [\n",
        "    'IPK_Semester_1', 'IPK_Semester_2', 'IPK_Semester_3',\n",
        "    'IPK_Semester_4', 'IPK_Semester_5', 'IPK_Semester_6',\n",
        "    'Kehadiran_Per_Mata_Kuliah', 'Riwayat_Pengambilan_Ulang',\n",
        "    'Aktivitas_Sistem_Pembelajaran_Daring', 'Beban_Kerja_JamPerMinggu',\n",
        "    'Status_Pekerjaan', 'Status_Risiko_DO'  # encoded kategorikal\n",
        "]\n",
        "\n",
        "# --- Hitung Korelasi Pearson ---\n",
        "correlation_matrix = df_encoded[numerical_cols].corr(method='pearson')\n",
        "\n",
        "# --- Visualisasi Heatmap Korelasi ---\n",
        "plt.figure(figsize=(12, 8))\n",
        "sns.heatmap(correlation_matrix, annot=True, cmap='coolwarm', center=0, fmt=\".2f\", linewidths=0.5, square=True)\n",
        "plt.title('Matriks Korelasi Fitur dengan Status Risiko DO')\n",
        "plt.tight_layout()\n",
        "plt.show()\n",
        "\n",
        "# --- Korelasi terhadap Target (Status_Risiko_DO) ---\n",
        "print(\"\\nKorelasi Fitur dengan Target (Status_Risiko_DO):\")\n",
        "print(correlation_matrix['Status_Risiko_DO'].sort_values(ascending=False))\n"
      ],
      "metadata": {
        "colab": {
          "base_uri": "https://localhost:8080/",
          "height": 1000
        },
        "id": "nhFGAqErtliE",
        "outputId": "12e0da43-df99-42d7-cf64-0898858fcde7"
      },
      "execution_count": 30,
      "outputs": [
        {
          "output_type": "display_data",
          "data": {
            "text/plain": [
              "<Figure size 1200x800 with 2 Axes>"
            ],
            "image/png": "[encoded data removed]"
          },
          "metadata": {}
        },
        {
          "output_type": "stream",
          "name": "stdout",
          "text": [
            "\n",
            "Korelasi Fitur dengan Target (Status_Risiko_DO):\n",
            "Status_Risiko_DO                        1.000000\n",
            "Riwayat_Pengambilan_Ulang               0.514554\n",
            "Beban_Kerja_JamPerMinggu                0.118441\n",
            "Status_Pekerjaan                        0.078084\n",
            "Aktivitas_Sistem_Pembelajaran_Daring   -0.095291\n",
            "Kehadiran_Per_Mata_Kuliah              -0.336078\n",
            "IPK_Semester_6                         -0.571803\n",
            "IPK_Semester_5                         -0.572788\n",
            "IPK_Semester_4                         -0.581321\n",
            "IPK_Semester_1                         -0.581684\n",
            "IPK_Semester_3                         -0.582341\n",
            "IPK_Semester_2                         -0.584098\n",
            "Name: Status_Risiko_DO, dtype: float64\n"
          ]
        }
      ]
    },
    {
      "cell_type": "markdown",
      "source": [
        "## Data Preparation"
      ],
      "metadata": {
        "id": "ftHjsWHyrCeA"
      }
    },
    {
      "cell_type": "markdown",
      "source": [
        "###3.1 Data Cleaning"
      ],
      "metadata": {
        "id": "fXCorJWrvepA"
      }
    },
    {
      "cell_type": "code",
      "source": [
        "# Kolom yang akan dihapus (dianggap tidak relevan untuk pemodelan)\n",
        "kolom_tidak_relevan = ['NIM']\n",
        "\n",
        "# Menghapus kolom yang tidak relevan dari DataFrame\n",
        "df_model = df.drop(columns=kolom_tidak_relevan)\n"
      ],
      "metadata": {
        "id": "XlY6voCsvaxv"
      },
      "execution_count": 19,
      "outputs": []
    },
    {
      "cell_type": "code",
      "source": [
        "# Kolom yang Tersisa\n",
        "# Tampilkan kolom yang tersisa di df_model\n",
        "print(\"Kolom yang tersisa di DataFrame setelah menghapus 'NIM':\")\n",
        "print(df_model.columns)"
      ],
      "metadata": {
        "colab": {
          "base_uri": "https://localhost:8080/"
        },
        "id": "cLa6KI65wEY7",
        "outputId": "030c4eda-0a92-4fa5-dab8-f1073787d774"
      },
      "execution_count": 20,
      "outputs": [
        {
          "output_type": "stream",
          "name": "stdout",
          "text": [
            "Kolom yang tersisa di DataFrame setelah menghapus 'NIM':\n",
            "Index(['IPK_Semester_1', 'IPK_Semester_2', 'IPK_Semester_3', 'IPK_Semester_4',\n",
            "       'IPK_Semester_5', 'IPK_Semester_6', 'Kehadiran_Per_Mata_Kuliah',\n",
            "       'Riwayat_Pengambilan_Ulang', 'Aktivitas_Sistem_Pembelajaran_Daring',\n",
            "       'Status_Pekerjaan', 'Beban_Kerja_JamPerMinggu', 'Status_Ekonomi',\n",
            "       'Status_Risiko_DO'],\n",
            "      dtype='object')\n"
          ]
        }
      ]
    },
    {
      "cell_type": "code",
      "source": [
        "# Memisahkan fitur (X) dari variabel target (y)\n",
        "fitur = df_model.loc[:, df_model.columns != 'Status_Risiko_DO']\n",
        "\n",
        "# Target (y) akan berisi kolom 'Churn'\n",
        "target = df_model['Status_Risiko_DO']\n",
        "\n",
        "# Menampilkan dimensi dari fitur dan target yang baru\n",
        "print(\"Dimensi Fitur (X):\", fitur.shape)\n",
        "print(\"Dimensi Target (y):\", target.shape)"
      ],
      "metadata": {
        "colab": {
          "base_uri": "https://localhost:8080/"
        },
        "id": "FhY2HtgmwAD_",
        "outputId": "b5465a0e-7412-4457-f779-c4b701bcdf05"
      },
      "execution_count": 21,
      "outputs": [
        {
          "output_type": "stream",
          "name": "stdout",
          "text": [
            "Dimensi Fitur (X): (4000, 12)\n",
            "Dimensi Target (y): (4000,)\n"
          ]
        }
      ]
    },
    {
      "cell_type": "code",
      "source": [
        "\n",
        "# Cek missing values pada DataFrame yang sudah diolah (df_model)\n",
        "print(\"\\nJumlah missing values per kolom di df_model:\")\n",
        "print(df_model.isnull().sum())\n",
        "\n",
        "# Menghapus baris yang mengandung missing values (handle missing values by dropping)\n",
        "df_cleaned = df_model.dropna()\n",
        "\n",
        "# Cek kembali missing values setelah dibersihkan\n",
        "print(\"\\nJumlah missing values per kolom setelah penghapusan baris:\")\n",
        "df_cleaned.isnull().sum()\n",
        "\n"
      ],
      "metadata": {
        "colab": {
          "base_uri": "https://localhost:8080/",
          "height": 804
        },
        "id": "SfvSU-F9wmhV",
        "outputId": "6f1cb128-c2a1-4825-d9f1-753aea89eceb"
      },
      "execution_count": 22,
      "outputs": [
        {
          "output_type": "stream",
          "name": "stdout",
          "text": [
            "\n",
            "Jumlah missing values per kolom di df_model:\n",
            "IPK_Semester_1                          0\n",
            "IPK_Semester_2                          0\n",
            "IPK_Semester_3                          0\n",
            "IPK_Semester_4                          0\n",
            "IPK_Semester_5                          0\n",
            "IPK_Semester_6                          0\n",
            "Kehadiran_Per_Mata_Kuliah               0\n",
            "Riwayat_Pengambilan_Ulang               0\n",
            "Aktivitas_Sistem_Pembelajaran_Daring    0\n",
            "Status_Pekerjaan                        0\n",
            "Beban_Kerja_JamPerMinggu                0\n",
            "Status_Ekonomi                          0\n",
            "Status_Risiko_DO                        0\n",
            "dtype: int64\n",
            "\n",
            "Jumlah missing values per kolom setelah penghapusan baris:\n"
          ]
        },
        {
          "output_type": "execute_result",
          "data": {
            "text/plain": [
              "IPK_Semester_1                          0\n",
              "IPK_Semester_2                          0\n",
              "IPK_Semester_3                          0\n",
              "IPK_Semester_4                          0\n",
              "IPK_Semester_5                          0\n",
              "IPK_Semester_6                          0\n",
              "Kehadiran_Per_Mata_Kuliah               0\n",
              "Riwayat_Pengambilan_Ulang               0\n",
              "Aktivitas_Sistem_Pembelajaran_Daring    0\n",
              "Status_Pekerjaan                        0\n",
              "Beban_Kerja_JamPerMinggu                0\n",
              "Status_Ekonomi                          0\n",
              "Status_Risiko_DO                        0\n",
              "dtype: int64"
            ],
            "text/html": [
              "<div>\n",
              "<style scoped>\n",
              "    .dataframe tbody tr th:only-of-type {\n",
              "        vertical-align: middle;\n",
              "    }\n",
              "\n",
              "    .dataframe tbody tr th {\n",
              "        vertical-align: top;\n",
              "    }\n",
              "\n",
              "    .dataframe thead th {\n",
              "        text-align: right;\n",
              "    }\n",
              "</style>\n",
              "<table border=\"1\" class=\"dataframe\">\n",
              "  <thead>\n",
              "    <tr style=\"text-align: right;\">\n",
              "      <th></th>\n",
              "      <th>0</th>\n",
              "    </tr>\n",
              "  </thead>\n",
              "  <tbody>\n",
              "    <tr>\n",
              "      <th>IPK_Semester_1</th>\n",
              "      <td>0</td>\n",
              "    </tr>\n",
              "    <tr>\n",
              "      <th>IPK_Semester_2</th>\n",
              "      <td>0</td>\n",
              "    </tr>\n",
              "    <tr>\n",
              "      <th>IPK_Semester_3</th>\n",
              "      <td>0</td>\n",
              "    </tr>\n",
              "    <tr>\n",
              "      <th>IPK_Semester_4</th>\n",
              "      <td>0</td>\n",
              "    </tr>\n",
              "    <tr>\n",
              "      <th>IPK_Semester_5</th>\n",
              "      <td>0</td>\n",
              "    </tr>\n",
              "    <tr>\n",
              "      <th>IPK_Semester_6</th>\n",
              "      <td>0</td>\n",
              "    </tr>\n",
              "    <tr>\n",
              "      <th>Kehadiran_Per_Mata_Kuliah</th>\n",
              "      <td>0</td>\n",
              "    </tr>\n",
              "    <tr>\n",
              "      <th>Riwayat_Pengambilan_Ulang</th>\n",
              "      <td>0</td>\n",
              "    </tr>\n",
              "    <tr>\n",
              "      <th>Aktivitas_Sistem_Pembelajaran_Daring</th>\n",
              "      <td>0</td>\n",
              "    </tr>\n",
              "    <tr>\n",
              "      <th>Status_Pekerjaan</th>\n",
              "      <td>0</td>\n",
              "    </tr>\n",
              "    <tr>\n",
              "      <th>Beban_Kerja_JamPerMinggu</th>\n",
              "      <td>0</td>\n",
              "    </tr>\n",
              "    <tr>\n",
              "      <th>Status_Ekonomi</th>\n",
              "      <td>0</td>\n",
              "    </tr>\n",
              "    <tr>\n",
              "      <th>Status_Risiko_DO</th>\n",
              "      <td>0</td>\n",
              "    </tr>\n",
              "  </tbody>\n",
              "</table>\n",
              "</div><br><label><b>dtype:</b> int64</label>"
            ]
          },
          "metadata": {},
          "execution_count": 22
        }
      ]
    },
    {
      "cell_type": "markdown",
      "source": [
        "### 3.2 Train Test Split\n"
      ],
      "metadata": {
        "id": "litfPBVgxBAe"
      }
    },
    {
      "cell_type": "code",
      "source": [
        "X_train, X_test, y_train, y_test = train_test_split(\n",
        "    fitur, target,\n",
        "    test_size=0.2,\n",
        "    random_state=42,\n",
        "    stratify=target\n",
        ")\n",
        "\n",
        "total_data = len(fitur)\n",
        "print(f\"Jumlah total dataset: {total_data}\")\n",
        "print(f\"Jumlah data latih: {X_train.shape[0]}\")\n",
        "print(f\"Jumlah data uji: {X_test.shape[0]}\")"
      ],
      "metadata": {
        "colab": {
          "base_uri": "https://localhost:8080/"
        },
        "id": "DIxXvQDqxLeM",
        "outputId": "963d444b-5acf-4451-e25f-60ae483fbe2d"
      },
      "execution_count": 34,
      "outputs": [
        {
          "output_type": "stream",
          "name": "stdout",
          "text": [
            "Jumlah total dataset: 4000\n",
            "Jumlah data latih: 3200\n",
            "Jumlah data uji: 800\n"
          ]
        }
      ]
    },
    {
      "cell_type": "markdown",
      "source": [
        "Data dibagi menjadi data latih (80%) dan data uji (20%) menggunakan `train_test_split`.  \n",
        "- Jumlah total dataset: 588\n",
        "- Jumlah data latih: 470\n",
        "- Jumlah data uji: 118"
      ],
      "metadata": {
        "id": "X6-kKnqKxOch"
      }
    },
    {
      "cell_type": "markdown",
      "source": [
        "###3.3 Encoding dan Normalisasi"
      ],
      "metadata": {
        "id": "IurCkoa-t5uc"
      }
    },
    {
      "cell_type": "code",
      "source": [
        "# Mengelompokkan kolom menjadi numerik dan kategorikal\n",
        "kolom_numerik = ['IPK_Semester_1', 'IPK_Semester_2', 'IPK_Semester_3',\n",
        "                 'IPK_Semester_4', 'IPK_Semester_5', 'IPK_Semester_6',\n",
        "                 'Kehadiran_Per_Mata_Kuliah', 'Riwayat_Pengambilan_Ulang',\n",
        "                 'Aktivitas_Sistem_Pembelajaran_Daring', 'Beban_Kerja_JamPerMinggu']\n",
        "kolom_kategorikal = ['Status_Pekerjaan', 'Status_Ekonomi']\n",
        "\n",
        "print(\"Kolom Numerik:\", kolom_numerik)\n",
        "print(\"Kolom Kategorikal:\", kolom_kategorikal)"
      ],
      "metadata": {
        "colab": {
          "base_uri": "https://localhost:8080/"
        },
        "id": "ZLPkoqwlrpjd",
        "outputId": "20586c6e-1b98-42f1-f187-7cdf7f026d3e"
      },
      "execution_count": 25,
      "outputs": [
        {
          "output_type": "stream",
          "name": "stdout",
          "text": [
            "Kolom Numerik: ['IPK_Semester_1', 'IPK_Semester_2', 'IPK_Semester_3', 'IPK_Semester_4', 'IPK_Semester_5', 'IPK_Semester_6', 'Kehadiran_Per_Mata_Kuliah', 'Riwayat_Pengambilan_Ulang', 'Aktivitas_Sistem_Pembelajaran_Daring', 'Beban_Kerja_JamPerMinggu']\n",
            "Kolom Kategorikal: ['Status_Pekerjaan', 'Status_Ekonomi']\n"
          ]
        }
      ]
    },
    {
      "cell_type": "code",
      "source": [
        "# Membuat salinan dataframe untuk analisis\n",
        "df_encoded = df.copy()\n",
        "\n",
        "# Mendefinisikan mapping khusus untuk Status_Pekerjaan\n",
        "mapping_pekerjaan = {'Bekerja': 1, 'Tidak Bekerja': 0}\n",
        "\n",
        "# Mendefinisikan mapping khusus untuk Status_Ekonomi\n",
        "mapping_ekonomi = {'Rendah': 0, 'Menengah': 1, 'Tinggi': 2}\n",
        "\n",
        "# Menerapkan mapping menggunakan fungsi replace\n",
        "df_encoded['Status_Pekerjaan'] = df_encoded['Status_Pekerjaan'].replace(mapping_pekerjaan)\n",
        "df_encoded['Status_Ekonomi'] = df_encoded['Status_Ekonomi'].replace(mapping_ekonomi)\n",
        "\n",
        "# Menampilkan mapping yang digunakan\n",
        "print(\"Pengkodean untuk Status_Pekerjaan:\", mapping_pekerjaan)\n",
        "print(\"Pengkodean untuk Status_Ekonomi:\", mapping_ekonomi)\n",
        "\n",
        "# Menampilkan beberapa baris untuk memverifikasi hasil\n",
        "print(\"\\nDataframe setelah Label Encoding (5 baris pertama):\")\n",
        "print(df_encoded[kolom_kategorikal].head())"
      ],
      "metadata": {
        "colab": {
          "base_uri": "https://localhost:8080/"
        },
        "id": "vnlcR0KvBrOE",
        "outputId": "0713e067-9d00-458f-b090-70d84d210274"
      },
      "execution_count": 26,
      "outputs": [
        {
          "output_type": "stream",
          "name": "stdout",
          "text": [
            "Pengkodean untuk Status_Pekerjaan: {'Bekerja': 1, 'Tidak Bekerja': 0}\n",
            "Pengkodean untuk Status_Ekonomi: {'Rendah': 0, 'Menengah': 1, 'Tinggi': 2}\n",
            "\n",
            "Dataframe setelah Label Encoding (5 baris pertama):\n",
            "   Status_Pekerjaan  Status_Ekonomi\n",
            "0                 0               2\n",
            "1                 1               1\n",
            "2                 0               2\n",
            "3                 1               0\n",
            "4                 0               2\n"
          ]
        },
        {
          "output_type": "stream",
          "name": "stderr",
          "text": [
            "<ipython-input-26-d15e139c021a>:13: FutureWarning: Downcasting behavior in `replace` is deprecated and will be removed in a future version. To retain the old behavior, explicitly call `result.infer_objects(copy=False)`. To opt-in to the future behavior, set `pd.set_option('future.no_silent_downcasting', True)`\n",
            "  df_encoded['Status_Pekerjaan'] = df_encoded['Status_Pekerjaan'].replace(mapping_pekerjaan)\n",
            "<ipython-input-26-d15e139c021a>:14: FutureWarning: Downcasting behavior in `replace` is deprecated and will be removed in a future version. To retain the old behavior, explicitly call `result.infer_objects(copy=False)`. To opt-in to the future behavior, set `pd.set_option('future.no_silent_downcasting', True)`\n",
            "  df_encoded['Status_Ekonomi'] = df_encoded['Status_Ekonomi'].replace(mapping_ekonomi)\n"
          ]
        }
      ]
    },
    {
      "cell_type": "code",
      "source": [
        "# Inisialisasi MinMaxScaler\n",
        "scaler = MinMaxScaler()\n",
        "\n",
        "# Melakukan normalisasi pada fitur numerik untuk data latih dan uji\n",
        "X_train_num = scaler.fit_transform(X_train[kolom_numerik])\n",
        "X_test_num = scaler.transform(X_test[kolom_numerik])\n",
        "\n",
        "# Menampilkan beberapa baris data latih yang telah dinormalisasi\n",
        "print(\"Contoh data latih setelah normalisasi (5 baris pertama):\")\n",
        "print(X_train_num[:5])"
      ],
      "metadata": {
        "colab": {
          "base_uri": "https://localhost:8080/"
        },
        "id": "n_6YUJmguS9W",
        "outputId": "162f208e-35a8-4d51-ed3f-443fcf6b8530"
      },
      "execution_count": 27,
      "outputs": [
        {
          "output_type": "stream",
          "name": "stdout",
          "text": [
            "Contoh data latih setelah normalisasi (5 baris pertama):\n",
            "[[0.18367347 0.295      0.24       0.1        0.22       0.195\n",
            "  0.20966667 0.75       0.6158     0.        ]\n",
            " [0.84693878 0.785      0.89       0.64       0.72       0.705\n",
            "  0.513      0.         0.6727     0.925     ]\n",
            " [0.41326531 0.46       0.445      0.285      0.315      0.22\n",
            "  0.21166667 0.5        0.6393     0.65      ]\n",
            " [0.71938776 0.77       0.78       0.795      0.8        0.74\n",
            "  0.78933333 0.5        0.6071     0.        ]\n",
            " [0.16326531 0.18       0.12       0.235      0.2        0.34\n",
            "  0.07566667 0.25       0.5815     0.        ]]\n"
          ]
        }
      ]
    },
    {
      "cell_type": "code",
      "source": [
        "# Mengambil fitur kategorikal yang telah diencode dari df_encoded\n",
        "# Menggunakan indeks X_train dan X_test untuk menyelaraskan data\n",
        "X_train_cat = df_encoded.loc[X_train.index, kolom_kategorikal].to_numpy()\n",
        "X_test_cat = df_encoded.loc[X_test.index, kolom_kategorikal].to_numpy()\n",
        "\n",
        "# Menampilkan beberapa baris untuk memverifikasi hasil\n",
        "print(\"Contoh data latih kategorikal setelah encoding (5 baris pertama):\")\n",
        "print(X_train_cat[:5])\n",
        "print(\"Contoh data uji kategorikal setelah encoding (5 baris pertama):\")\n",
        "print(X_test_cat[:5])"
      ],
      "metadata": {
        "colab": {
          "base_uri": "https://localhost:8080/"
        },
        "id": "SY7qgeFrMWhu",
        "outputId": "404c519a-a4c7-420d-da0d-0bf5d7b546cb"
      },
      "execution_count": 36,
      "outputs": [
        {
          "output_type": "stream",
          "name": "stdout",
          "text": [
            "Contoh data latih kategorikal setelah encoding (5 baris pertama):\n",
            "[[0 1]\n",
            " [1 1]\n",
            " [1 1]\n",
            " [0 0]\n",
            " [0 2]]\n",
            "Contoh data uji kategorikal setelah encoding (5 baris pertama):\n",
            "[[0 0]\n",
            " [0 1]\n",
            " [0 1]\n",
            " [0 1]\n",
            " [0 1]]\n"
          ]
        }
      ]
    },
    {
      "cell_type": "code",
      "source": [
        "# Menggabungkan fitur numerik dan kategorikal yang telah diproses\n",
        "X_train_final = np.hstack((X_train_num, X_train_cat))\n",
        "X_test_final = np.hstack((X_test_num, X_test_cat))\n",
        "\n",
        "# Menampilkan bentuk data akhir\n",
        "print(\"Bentuk X_train_final:\", X_train_final.shape)\n",
        "print(\"Bentuk X_test_final:\", X_test_final.shape)"
      ],
      "metadata": {
        "colab": {
          "base_uri": "https://localhost:8080/"
        },
        "id": "H2D5ML9Uybzm",
        "outputId": "ba1ec907-bf1c-4536-de6c-586468df92c4"
      },
      "execution_count": 38,
      "outputs": [
        {
          "output_type": "stream",
          "name": "stdout",
          "text": [
            "Bentuk X_train_final: (3200, 12)\n",
            "Bentuk X_test_final: (800, 12)\n"
          ]
        }
      ]
    },
    {
      "cell_type": "markdown",
      "source": [
        "## 4. Model Development"
      ],
      "metadata": {
        "id": "P92V5x2Xyemh"
      }
    },
    {
      "cell_type": "markdown",
      "source": [
        "###4.1 Random Forest"
      ],
      "metadata": {
        "id": "ts6ub9UGAduv"
      }
    },
    {
      "cell_type": "code",
      "source": [
        "# Inisialisasi model Random Forest\n",
        "rf_model = RandomForestClassifier(n_estimators=100, random_state=42)\n",
        "\n",
        "print(\"Model Random Forest telah diinisialisasi.\")"
      ],
      "metadata": {
        "colab": {
          "base_uri": "https://localhost:8080/"
        },
        "id": "tHZ1FocxuYVs",
        "outputId": "6b08a2b9-4c83-4c95-c901-3616d9b7eae1"
      },
      "execution_count": 39,
      "outputs": [
        {
          "output_type": "stream",
          "name": "stdout",
          "text": [
            "Model Random Forest telah diinisialisasi.\n"
          ]
        }
      ]
    },
    {
      "cell_type": "code",
      "source": [
        "# Melatih model Random Forest\n",
        "rf_model.fit(X_train_final, y_train)"
      ],
      "metadata": {
        "colab": {
          "base_uri": "https://localhost:8080/",
          "height": 80
        },
        "id": "Q1WcG6ILAqX-",
        "outputId": "b3e10a08-a485-4de5-998a-2fcb1f0b59f1"
      },
      "execution_count": 40,
      "outputs": [
        {
          "output_type": "execute_result",
          "data": {
            "text/plain": [
              "RandomForestClassifier(random_state=42)"
            ],
            "text/html": [
              "<style>#sk-container-id-1 {\n",
              "  /* Definition of color scheme common for light and dark mode */\n",
              "  --sklearn-color-text: #000;\n",
              "  --sklearn-color-text-muted: #666;\n",
              "  --sklearn-color-line: gray;\n",
              "  /* Definition of color scheme for unfitted estimators */\n",
              "  --sklearn-color-unfitted-level-0: #fff5e6;\n",
              "  --sklearn-color-unfitted-level-1: #f6e4d2;\n",
              "  --sklearn-color-unfitted-level-2: #ffe0b3;\n",
              "  --sklearn-color-unfitted-level-3: chocolate;\n",
              "  /* Definition of color scheme for fitted estimators */\n",
              "  --sklearn-color-fitted-level-0: #f0f8ff;\n",
              "  --sklearn-color-fitted-level-1: #d4ebff;\n",
              "  --sklearn-color-fitted-level-2: #b3dbfd;\n",
              "  --sklearn-color-fitted-level-3: cornflowerblue;\n",
              "\n",
              "  /* Specific color for light theme */\n",
              "  --sklearn-color-text-on-default-background: var(--sg-text-color, var(--theme-code-foreground, var(--jp-content-font-color1, black)));\n",
              "  --sklearn-color-background: var(--sg-background-color, var(--theme-background, var(--jp-layout-color0, white)));\n",
              "  --sklearn-color-border-box: var(--sg-text-color, var(--theme-code-foreground, var(--jp-content-font-color1, black)));\n",
              "  --sklearn-color-icon: #696969;\n",
              "\n",
              "  @media (prefers-color-scheme: dark) {\n",
              "    /* Redefinition of color scheme for dark theme */\n",
              "    --sklearn-color-text-on-default-background: var(--sg-text-color, var(--theme-code-foreground, var(--jp-content-font-color1, white)));\n",
              "    --sklearn-color-background: var(--sg-background-color, var(--theme-background, var(--jp-layout-color0, #111)));\n",
              "    --sklearn-color-border-box: var(--sg-text-color, var(--theme-code-foreground, var(--jp-content-font-color1, white)));\n",
              "    --sklearn-color-icon: #878787;\n",
              "  }\n",
              "}\n",
              "\n",
              "#sk-container-id-1 {\n",
              "  color: var(--sklearn-color-text);\n",
              "}\n",
              "\n",
              "#sk-container-id-1 pre {\n",
              "  padding: 0;\n",
              "}\n",
              "\n",
              "#sk-container-id-1 input.sk-hidden--visually {\n",
              "  border: 0;\n",
              "  clip: rect(1px 1px 1px 1px);\n",
              "  clip: rect(1px, 1px, 1px, 1px);\n",
              "  height: 1px;\n",
              "  margin: -1px;\n",
              "  overflow: hidden;\n",
              "  padding: 0;\n",
              "  position: absolute;\n",
              "  width: 1px;\n",
              "}\n",
              "\n",
              "#sk-container-id-1 div.sk-dashed-wrapped {\n",
              "  border: 1px dashed var(--sklearn-color-line);\n",
              "  margin: 0 0.4em 0.5em 0.4em;\n",
              "  box-sizing: border-box;\n",
              "  padding-bottom: 0.4em;\n",
              "  background-color: var(--sklearn-color-background);\n",
              "}\n",
              "\n",
              "#sk-container-id-1 div.sk-container {\n",
              "  /* jupyter's `normalize.less` sets `[hidden] { display: none; }`\n",
              "     but bootstrap.min.css set `[hidden] { display: none !important; }`\n",
              "     so we also need the `!important` here to be able to override the\n",
              "     default hidden behavior on the sphinx rendered scikit-learn.org.\n",
              "     See: https://github.com/scikit-learn/scikit-learn/issues/21755 */\n",
              "  display: inline-block !important;\n",
              "  position: relative;\n",
              "}\n",
              "\n",
              "#sk-container-id-1 div.sk-text-repr-fallback {\n",
              "  display: none;\n",
              "}\n",
              "\n",
              "div.sk-parallel-item,\n",
              "div.sk-serial,\n",
              "div.sk-item {\n",
              "  /* draw centered vertical line to link estimators */\n",
              "  background-image: linear-gradient(var(--sklearn-color-text-on-default-background), var(--sklearn-color-text-on-default-background));\n",
              "  background-size: 2px 100%;\n",
              "  background-repeat: no-repeat;\n",
              "  background-position: center center;\n",
              "}\n",
              "\n",
              "/* Parallel-specific style estimator block */\n",
              "\n",
              "#sk-container-id-1 div.sk-parallel-item::after {\n",
              "  content: \"\";\n",
              "  width: 100%;\n",
              "  border-bottom: 2px solid var(--sklearn-color-text-on-default-background);\n",
              "  flex-grow: 1;\n",
              "}\n",
              "\n",
              "#sk-container-id-1 div.sk-parallel {\n",
              "  display: flex;\n",
              "  align-items: stretch;\n",
              "  justify-content: center;\n",
              "  background-color: var(--sklearn-color-background);\n",
              "  position: relative;\n",
              "}\n",
              "\n",
              "#sk-container-id-1 div.sk-parallel-item {\n",
              "  display: flex;\n",
              "  flex-direction: column;\n",
              "}\n",
              "\n",
              "#sk-container-id-1 div.sk-parallel-item:first-child::after {\n",
              "  align-self: flex-end;\n",
              "  width: 50%;\n",
              "}\n",
              "\n",
              "#sk-container-id-1 div.sk-parallel-item:last-child::after {\n",
              "  align-self: flex-start;\n",
              "  width: 50%;\n",
              "}\n",
              "\n",
              "#sk-container-id-1 div.sk-parallel-item:only-child::after {\n",
              "  width: 0;\n",
              "}\n",
              "\n",
              "/* Serial-specific style estimator block */\n",
              "\n",
              "#sk-container-id-1 div.sk-serial {\n",
              "  display: flex;\n",
              "  flex-direction: column;\n",
              "  align-items: center;\n",
              "  background-color: var(--sklearn-color-background);\n",
              "  padding-right: 1em;\n",
              "  padding-left: 1em;\n",
              "}\n",
              "\n",
              "\n",
              "/* Toggleable style: style used for estimator/Pipeline/ColumnTransformer box that is\n",
              "clickable and can be expanded/collapsed.\n",
              "- Pipeline and ColumnTransformer use this feature and define the default style\n",
              "- Estimators will overwrite some part of the style using the `sk-estimator` class\n",
              "*/\n",
              "\n",
              "/* Pipeline and ColumnTransformer style (default) */\n",
              "\n",
              "#sk-container-id-1 div.sk-toggleable {\n",
              "  /* Default theme specific background. It is overwritten whether we have a\n",
              "  specific estimator or a Pipeline/ColumnTransformer */\n",
              "  background-color: var(--sklearn-color-background);\n",
              "}\n",
              "\n",
              "/* Toggleable label */\n",
              "#sk-container-id-1 label.sk-toggleable__label {\n",
              "  cursor: pointer;\n",
              "  display: flex;\n",
              "  width: 100%;\n",
              "  margin-bottom: 0;\n",
              "  padding: 0.5em;\n",
              "  box-sizing: border-box;\n",
              "  text-align: center;\n",
              "  align-items: start;\n",
              "  justify-content: space-between;\n",
              "  gap: 0.5em;\n",
              "}\n",
              "\n",
              "#sk-container-id-1 label.sk-toggleable__label .caption {\n",
              "  font-size: 0.6rem;\n",
              "  font-weight: lighter;\n",
              "  color: var(--sklearn-color-text-muted);\n",
              "}\n",
              "\n",
              "#sk-container-id-1 label.sk-toggleable__label-arrow:before {\n",
              "  /* Arrow on the left of the label */\n",
              "  content: \"▸\";\n",
              "  float: left;\n",
              "  margin-right: 0.25em;\n",
              "  color: var(--sklearn-color-icon);\n",
              "}\n",
              "\n",
              "#sk-container-id-1 label.sk-toggleable__label-arrow:hover:before {\n",
              "  color: var(--sklearn-color-text);\n",
              "}\n",
              "\n",
              "/* Toggleable content - dropdown */\n",
              "\n",
              "#sk-container-id-1 div.sk-toggleable__content {\n",
              "  max-height: 0;\n",
              "  max-width: 0;\n",
              "  overflow: hidden;\n",
              "  text-align: left;\n",
              "  /* unfitted */\n",
              "  background-color: var(--sklearn-color-unfitted-level-0);\n",
              "}\n",
              "\n",
              "#sk-container-id-1 div.sk-toggleable__content.fitted {\n",
              "  /* fitted */\n",
              "  background-color: var(--sklearn-color-fitted-level-0);\n",
              "}\n",
              "\n",
              "#sk-container-id-1 div.sk-toggleable__content pre {\n",
              "  margin: 0.2em;\n",
              "  border-radius: 0.25em;\n",
              "  color: var(--sklearn-color-text);\n",
              "  /* unfitted */\n",
              "  background-color: var(--sklearn-color-unfitted-level-0);\n",
              "}\n",
              "\n",
              "#sk-container-id-1 div.sk-toggleable__content.fitted pre {\n",
              "  /* unfitted */\n",
              "  background-color: var(--sklearn-color-fitted-level-0);\n",
              "}\n",
              "\n",
              "#sk-container-id-1 input.sk-toggleable__control:checked~div.sk-toggleable__content {\n",
              "  /* Expand drop-down */\n",
              "  max-height: 200px;\n",
              "  max-width: 100%;\n",
              "  overflow: auto;\n",
              "}\n",
              "\n",
              "#sk-container-id-1 input.sk-toggleable__control:checked~label.sk-toggleable__label-arrow:before {\n",
              "  content: \"▾\";\n",
              "}\n",
              "\n",
              "/* Pipeline/ColumnTransformer-specific style */\n",
              "\n",
              "#sk-container-id-1 div.sk-label input.sk-toggleable__control:checked~label.sk-toggleable__label {\n",
              "  color: var(--sklearn-color-text);\n",
              "  background-color: var(--sklearn-color-unfitted-level-2);\n",
              "}\n",
              "\n",
              "#sk-container-id-1 div.sk-label.fitted input.sk-toggleable__control:checked~label.sk-toggleable__label {\n",
              "  background-color: var(--sklearn-color-fitted-level-2);\n",
              "}\n",
              "\n",
              "/* Estimator-specific style */\n",
              "\n",
              "/* Colorize estimator box */\n",
              "#sk-container-id-1 div.sk-estimator input.sk-toggleable__control:checked~label.sk-toggleable__label {\n",
              "  /* unfitted */\n",
              "  background-color: var(--sklearn-color-unfitted-level-2);\n",
              "}\n",
              "\n",
              "#sk-container-id-1 div.sk-estimator.fitted input.sk-toggleable__control:checked~label.sk-toggleable__label {\n",
              "  /* fitted */\n",
              "  background-color: var(--sklearn-color-fitted-level-2);\n",
              "}\n",
              "\n",
              "#sk-container-id-1 div.sk-label label.sk-toggleable__label,\n",
              "#sk-container-id-1 div.sk-label label {\n",
              "  /* The background is the default theme color */\n",
              "  color: var(--sklearn-color-text-on-default-background);\n",
              "}\n",
              "\n",
              "/* On hover, darken the color of the background */\n",
              "#sk-container-id-1 div.sk-label:hover label.sk-toggleable__label {\n",
              "  color: var(--sklearn-color-text);\n",
              "  background-color: var(--sklearn-color-unfitted-level-2);\n",
              "}\n",
              "\n",
              "/* Label box, darken color on hover, fitted */\n",
              "#sk-container-id-1 div.sk-label.fitted:hover label.sk-toggleable__label.fitted {\n",
              "  color: var(--sklearn-color-text);\n",
              "  background-color: var(--sklearn-color-fitted-level-2);\n",
              "}\n",
              "\n",
              "/* Estimator label */\n",
              "\n",
              "#sk-container-id-1 div.sk-label label {\n",
              "  font-family: monospace;\n",
              "  font-weight: bold;\n",
              "  display: inline-block;\n",
              "  line-height: 1.2em;\n",
              "}\n",
              "\n",
              "#sk-container-id-1 div.sk-label-container {\n",
              "  text-align: center;\n",
              "}\n",
              "\n",
              "/* Estimator-specific */\n",
              "#sk-container-id-1 div.sk-estimator {\n",
              "  font-family: monospace;\n",
              "  border: 1px dotted var(--sklearn-color-border-box);\n",
              "  border-radius: 0.25em;\n",
              "  box-sizing: border-box;\n",
              "  margin-bottom: 0.5em;\n",
              "  /* unfitted */\n",
              "  background-color: var(--sklearn-color-unfitted-level-0);\n",
              "}\n",
              "\n",
              "#sk-container-id-1 div.sk-estimator.fitted {\n",
              "  /* fitted */\n",
              "  background-color: var(--sklearn-color-fitted-level-0);\n",
              "}\n",
              "\n",
              "/* on hover */\n",
              "#sk-container-id-1 div.sk-estimator:hover {\n",
              "  /* unfitted */\n",
              "  background-color: var(--sklearn-color-unfitted-level-2);\n",
              "}\n",
              "\n",
              "#sk-container-id-1 div.sk-estimator.fitted:hover {\n",
              "  /* fitted */\n",
              "  background-color: var(--sklearn-color-fitted-level-2);\n",
              "}\n",
              "\n",
              "/* Specification for estimator info (e.g. \"i\" and \"?\") */\n",
              "\n",
              "/* Common style for \"i\" and \"?\" */\n",
              "\n",
              ".sk-estimator-doc-link,\n",
              "a:link.sk-estimator-doc-link,\n",
              "a:visited.sk-estimator-doc-link {\n",
              "  float: right;\n",
              "  font-size: smaller;\n",
              "  line-height: 1em;\n",
              "  font-family: monospace;\n",
              "  background-color: var(--sklearn-color-background);\n",
              "  border-radius: 1em;\n",
              "  height: 1em;\n",
              "  width: 1em;\n",
              "  text-decoration: none !important;\n",
              "  margin-left: 0.5em;\n",
              "  text-align: center;\n",
              "  /* unfitted */\n",
              "  border: var(--sklearn-color-unfitted-level-1) 1pt solid;\n",
              "  color: var(--sklearn-color-unfitted-level-1);\n",
              "}\n",
              "\n",
              ".sk-estimator-doc-link.fitted,\n",
              "a:link.sk-estimator-doc-link.fitted,\n",
              "a:visited.sk-estimator-doc-link.fitted {\n",
              "  /* fitted */\n",
              "  border: var(--sklearn-color-fitted-level-1) 1pt solid;\n",
              "  color: var(--sklearn-color-fitted-level-1);\n",
              "}\n",
              "\n",
              "/* On hover */\n",
              "div.sk-estimator:hover .sk-estimator-doc-link:hover,\n",
              ".sk-estimator-doc-link:hover,\n",
              "div.sk-label-container:hover .sk-estimator-doc-link:hover,\n",
              ".sk-estimator-doc-link:hover {\n",
              "  /* unfitted */\n",
              "  background-color: var(--sklearn-color-unfitted-level-3);\n",
              "  color: var(--sklearn-color-background);\n",
              "  text-decoration: none;\n",
              "}\n",
              "\n",
              "div.sk-estimator.fitted:hover .sk-estimator-doc-link.fitted:hover,\n",
              ".sk-estimator-doc-link.fitted:hover,\n",
              "div.sk-label-container:hover .sk-estimator-doc-link.fitted:hover,\n",
              ".sk-estimator-doc-link.fitted:hover {\n",
              "  /* fitted */\n",
              "  background-color: var(--sklearn-color-fitted-level-3);\n",
              "  color: var(--sklearn-color-background);\n",
              "  text-decoration: none;\n",
              "}\n",
              "\n",
              "/* Span, style for the box shown on hovering the info icon */\n",
              ".sk-estimator-doc-link span {\n",
              "  display: none;\n",
              "  z-index: 9999;\n",
              "  position: relative;\n",
              "  font-weight: normal;\n",
              "  right: .2ex;\n",
              "  padding: .5ex;\n",
              "  margin: .5ex;\n",
              "  width: min-content;\n",
              "  min-width: 20ex;\n",
              "  max-width: 50ex;\n",
              "  color: var(--sklearn-color-text);\n",
              "  box-shadow: 2pt 2pt 4pt #999;\n",
              "  /* unfitted */\n",
              "  background: var(--sklearn-color-unfitted-level-0);\n",
              "  border: .5pt solid var(--sklearn-color-unfitted-level-3);\n",
              "}\n",
              "\n",
              ".sk-estimator-doc-link.fitted span {\n",
              "  /* fitted */\n",
              "  background: var(--sklearn-color-fitted-level-0);\n",
              "  border: var(--sklearn-color-fitted-level-3);\n",
              "}\n",
              "\n",
              ".sk-estimator-doc-link:hover span {\n",
              "  display: block;\n",
              "}\n",
              "\n",
              "/* \"?\"-specific style due to the `<a>` HTML tag */\n",
              "\n",
              "#sk-container-id-1 a.estimator_doc_link {\n",
              "  float: right;\n",
              "  font-size: 1rem;\n",
              "  line-height: 1em;\n",
              "  font-family: monospace;\n",
              "  background-color: var(--sklearn-color-background);\n",
              "  border-radius: 1rem;\n",
              "  height: 1rem;\n",
              "  width: 1rem;\n",
              "  text-decoration: none;\n",
              "  /* unfitted */\n",
              "  color: var(--sklearn-color-unfitted-level-1);\n",
              "  border: var(--sklearn-color-unfitted-level-1) 1pt solid;\n",
              "}\n",
              "\n",
              "#sk-container-id-1 a.estimator_doc_link.fitted {\n",
              "  /* fitted */\n",
              "  border: var(--sklearn-color-fitted-level-1) 1pt solid;\n",
              "  color: var(--sklearn-color-fitted-level-1);\n",
              "}\n",
              "\n",
              "/* On hover */\n",
              "#sk-container-id-1 a.estimator_doc_link:hover {\n",
              "  /* unfitted */\n",
              "  background-color: var(--sklearn-color-unfitted-level-3);\n",
              "  color: var(--sklearn-color-background);\n",
              "  text-decoration: none;\n",
              "}\n",
              "\n",
              "#sk-container-id-1 a.estimator_doc_link.fitted:hover {\n",
              "  /* fitted */\n",
              "  background-color: var(--sklearn-color-fitted-level-3);\n",
              "}\n",
              "</style><div id=\"sk-container-id-1\" class=\"sk-top-container\"><div class=\"sk-text-repr-fallback\"><pre>RandomForestClassifier(random_state=42)</pre><b>In a Jupyter environment, please rerun this cell to show the HTML representation or trust the notebook. <br />On GitHub, the HTML representation is unable to render, please try loading this page with nbviewer.org.</b></div><div class=\"sk-container\" hidden><div class=\"sk-item\"><div class=\"sk-estimator fitted sk-toggleable\"><input class=\"sk-toggleable__control sk-hidden--visually\" id=\"sk-estimator-id-1\" type=\"checkbox\" checked><label for=\"sk-estimator-id-1\" class=\"sk-toggleable__label fitted sk-toggleable__label-arrow\"><div><div>RandomForestClassifier</div></div><div><a class=\"sk-estimator-doc-link fitted\" rel=\"noreferrer\" target=\"_blank\" href=\"https://scikit-learn.org/1.6/modules/generated/sklearn.ensemble.RandomForestClassifier.html\">?<span>Documentation for RandomForestClassifier</span></a><span class=\"sk-estimator-doc-link fitted\">i<span>Fitted</span></span></div></label><div class=\"sk-toggleable__content fitted\"><pre>RandomForestClassifier(random_state=42)</pre></div> </div></div></div></div>"
            ]
          },
          "metadata": {},
          "execution_count": 40
        }
      ]
    },
    {
      "cell_type": "code",
      "source": [
        "y_pred_rf = rf_model.predict(X_test_final)"
      ],
      "metadata": {
        "id": "kQpWV88wC8Ms"
      },
      "execution_count": 47,
      "outputs": []
    },
    {
      "cell_type": "markdown",
      "source": [
        "### 4.2 Logistic Regression"
      ],
      "metadata": {
        "id": "JVMwW-OFBD8B"
      }
    },
    {
      "cell_type": "code",
      "source": [
        "# Inisialisasi model Logistic Regression\n",
        "lr_model = LogisticRegression(random_state=42, max_iter=1000)\n",
        "print(\"Model Logistic Regression telah diinisialisasi.\")"
      ],
      "metadata": {
        "colab": {
          "base_uri": "https://localhost:8080/"
        },
        "id": "vGQrsKVmucAG",
        "outputId": "ba406e55-a0d9-4bd5-c6c9-a5d83a4b22e8"
      },
      "execution_count": 42,
      "outputs": [
        {
          "output_type": "stream",
          "name": "stdout",
          "text": [
            "Model Logistic Regression telah diinisialisasi.\n"
          ]
        }
      ]
    },
    {
      "cell_type": "code",
      "source": [
        "# Melatih model Logistic Regression\n",
        "lr_model.fit(X_train_final, y_train)\n",
        "\n",
        "print(\"Pelatihan selesai untuk model Logistic Regression.\")"
      ],
      "metadata": {
        "colab": {
          "base_uri": "https://localhost:8080/"
        },
        "id": "Cu9UDqrZBO67",
        "outputId": "c546ef90-8448-4370-e839-885368692612"
      },
      "execution_count": 43,
      "outputs": [
        {
          "output_type": "stream",
          "name": "stdout",
          "text": [
            "Pelatihan selesai untuk model Logistic Regression.\n"
          ]
        }
      ]
    },
    {
      "cell_type": "code",
      "source": [
        "# Memprediksi data uji dengan Logistic Regression\n",
        "y_pred_lr = lr_model.predict(X_test_final)\n"
      ],
      "metadata": {
        "id": "LlRQXkcpBdot"
      },
      "execution_count": 44,
      "outputs": []
    },
    {
      "cell_type": "markdown",
      "source": [
        "## 5. Evaluasi Model"
      ],
      "metadata": {
        "id": "iz_OZ_FmD7Md"
      }
    },
    {
      "cell_type": "markdown",
      "source": [
        "### 5.1 Random Forest"
      ],
      "metadata": {
        "id": "J6lJOw_fD9l8"
      }
    },
    {
      "cell_type": "code",
      "source": [
        "# Evaluasi model Random Forest\n",
        "print(\"Evaluasi Model Random Forest:\")\n",
        "\n",
        "# Evaluasi\n",
        "print(classification_report(y_test, y_pred_rf))\n",
        "print(\"Akurasi:\", accuracy_score(y_test, y_pred_rf))\n",
        "print(\"Presisi:\", precision_score(y_test, y_pred_rf))\n",
        "print(\"Recall:\", recall_score(y_test, y_pred_rf))\n",
        "print(\"F1-Score:\", f1_score(y_test, y_pred_rf))\n"
      ],
      "metadata": {
        "colab": {
          "base_uri": "https://localhost:8080/"
        },
        "outputId": "2eebe3d1-6c2c-404f-ef6b-ff1c0201251a",
        "id": "sh-baWDFEAAS"
      },
      "execution_count": 45,
      "outputs": [
        {
          "output_type": "stream",
          "name": "stdout",
          "text": [
            "Evaluasi Model Random Forest:\n",
            "              precision    recall  f1-score   support\n",
            "\n",
            "           0       0.98      0.99      0.98       440\n",
            "           1       0.99      0.97      0.98       360\n",
            "\n",
            "    accuracy                           0.98       800\n",
            "   macro avg       0.98      0.98      0.98       800\n",
            "weighted avg       0.98      0.98      0.98       800\n",
            "\n",
            "Akurasi: 0.9825\n",
            "Presisi: 0.9859550561797753\n",
            "Recall: 0.975\n",
            "F1-Score: 0.9804469273743017\n"
          ]
        }
      ]
    },
    {
      "cell_type": "code",
      "source": [
        "# Confusion Matrix\n",
        "cm = confusion_matrix(y_test, y_pred_rf)\n",
        "sns.heatmap(cm, annot=True, fmt='d', cmap='Blues', xticklabels=[\"Aman\", \"Risiko Tinggi\"], yticklabels=[\"Aman\", \"Risiko Tinggi\"])\n",
        "plt.xlabel('Prediksi')\n",
        "plt.ylabel('Aktual')\n",
        "plt.title('Confusion Matrix')\n",
        "plt.show()\n",
        "\n"
      ],
      "metadata": {
        "colab": {
          "base_uri": "https://localhost:8080/",
          "height": 472
        },
        "outputId": "72777b66-9a04-4ae3-ec98-fb5a29f47c16",
        "id": "DDBFVqjQEAAS"
      },
      "execution_count": 48,
      "outputs": [
        {
          "output_type": "display_data",
          "data": {
            "text/plain": [
              "<Figure size 640x480 with 2 Axes>"
            ],
            "image/png": "[encoded data removed]"
          },
          "metadata": {}
        }
      ]
    },
    {
      "cell_type": "markdown",
      "source": [
        "### 5.2 Logistic Regression"
      ],
      "metadata": {
        "id": "euvJRkQWEDPq"
      }
    },
    {
      "cell_type": "code",
      "source": [
        "# Evaluasi model Logistic Regression\n",
        "\n",
        "print(\"Evaluasi Model Logistic Regression:\")\n",
        "print(classification_report(y_test, y_pred_lr))\n",
        "print(\"Akurasi:\", accuracy_score(y_test, y_pred_lr))\n",
        "print(\"Presisi:\", precision_score(y_test, y_pred_lr))\n",
        "print(\"Recall:\", recall_score(y_test, y_pred_lr))\n",
        "print(\"F1-Score:\", f1_score(y_test, y_pred_lr))"
      ],
      "metadata": {
        "colab": {
          "base_uri": "https://localhost:8080/"
        },
        "id": "HtTEoA6HDkqU",
        "outputId": "b5d4b786-5561-42c1-d57d-2adc0733349d"
      },
      "execution_count": 49,
      "outputs": [
        {
          "output_type": "stream",
          "name": "stdout",
          "text": [
            "Evaluasi Model Logistic Regression:\n",
            "              precision    recall  f1-score   support\n",
            "\n",
            "           0       0.90      0.91      0.90       440\n",
            "           1       0.89      0.88      0.88       360\n",
            "\n",
            "    accuracy                           0.89       800\n",
            "   macro avg       0.89      0.89      0.89       800\n",
            "weighted avg       0.89      0.89      0.89       800\n",
            "\n",
            "Akurasi: 0.89375\n",
            "Presisi: 0.8873239436619719\n",
            "Recall: 0.875\n",
            "F1-Score: 0.8811188811188811\n"
          ]
        }
      ]
    },
    {
      "cell_type": "code",
      "source": [
        "# Confusion Matrix\n",
        "cm = confusion_matrix(y_test, y_pred_lr)\n",
        "sns.heatmap(cm, annot=True, fmt='d', cmap='Blues', xticklabels=[\"Aman\", \"Risiko Tinggi\"], yticklabels=[\"Aman\", \"Risiko Tinggi\"])\n",
        "plt.xlabel('Prediksi')\n",
        "plt.ylabel('Aktual')\n",
        "plt.title('Confusion Matrix')\n",
        "plt.show()\n",
        "\n"
      ],
      "metadata": {
        "colab": {
          "base_uri": "https://localhost:8080/",
          "height": 472
        },
        "id": "V44q5bjBBlBV",
        "outputId": "34190d96-f4e6-40b9-a52a-3555479209e6"
      },
      "execution_count": 50,
      "outputs": [
        {
          "output_type": "display_data",
          "data": {
            "text/plain": [
              "<Figure size 640x480 with 2 Axes>"
            ],
            "image/png": "[encoded data removed]"
          },
          "metadata": {}
        }
      ]
    },
    {
      "cell_type": "markdown",
      "source": [
        "## 6. Simpan Model dan Inference Sederhana"
      ],
      "metadata": {
        "id": "_cZx25OvEZrF"
      }
    },
    {
      "cell_type": "code",
      "source": [
        "joblib.dump(rf_model, 'model_prediksi_DO.pkl')"
      ],
      "metadata": {
        "colab": {
          "base_uri": "https://localhost:8080/"
        },
        "id": "kU5Z9XleugAc",
        "outputId": "abb04c31-9141-4361-c91a-8bd228cfa9d7"
      },
      "execution_count": 51,
      "outputs": [
        {
          "output_type": "execute_result",
          "data": {
            "text/plain": [
              "['model_prediksi_DO.pkl']"
            ]
          },
          "metadata": {},
          "execution_count": 51
        }
      ]
    },
    {
      "cell_type": "code",
      "source": [
        "# Panduan rentang nilai untuk pengisian fitur\n",
        "print(\"Panduan Rentang Pengisian Fitur:\")\n",
        "print(\"1. IPK_Semester_1 sampai IPK_Semester_6\")\n",
        "print(\"   - Rentang: 0.0 sampai 4.0\")\n",
        "print(\"   - Contoh: 3.5\")\n",
        "print(\"2. Kehadiran_Per_Mata_Kuliah\")\n",
        "print(\"   - Rentang: 0 sampai 100 (persentase kehadiran per mata kuliah)\")\n",
        "print(\"   - Contoh: 85\")\n",
        "print(\"3. Riwayat_Pengambilan_Ulang\")\n",
        "print(\"   - Rentang: 0 sampai jumlah mata kuliah yang diulang (bilangan bulat)\")\n",
        "print(\"   - Contoh: 2\")\n",
        "print(\"4. Aktivitas_Sistem_Pembelajaran_Daring\")\n",
        "print(\"   - Rentang: 0 sampai 100 (persentase aktivitas daring)\")\n",
        "print(\"   - Contoh: 70\")\n",
        "print(\"5. Beban_Kerja_JamPerMinggu\")\n",
        "print(\"   - Rentang: 0 sampai 168 (jam per minggu, maksimum 24 jam x 7 hari)\")\n",
        "print(\"   - Contoh: 20\")\n",
        "print(\"6. Status_Pekerjaan\")\n",
        "print(\"   - Pilihan: 1 (Bekerja), 0 (Tidak Bekerja)\")\n",
        "print(\"   - Contoh: 1\")\n",
        "print(\"7. Status_Ekonomi\")\n",
        "print(\"   - Pilihan: 0 (Rendah), 1 (Menengah), 2 (Tinggi)\")\n",
        "print(\"   - Contoh: 1\")"
      ],
      "metadata": {
        "colab": {
          "base_uri": "https://localhost:8080/"
        },
        "id": "BqkIpXGPNhtw",
        "outputId": "a0b16543-998d-4152-c06b-85443c23029f"
      },
      "execution_count": 52,
      "outputs": [
        {
          "output_type": "stream",
          "name": "stdout",
          "text": [
            "Panduan Rentang Pengisian Fitur:\n",
            "1. IPK_Semester_1 sampai IPK_Semester_6\n",
            "   - Rentang: 0.0 sampai 4.0\n",
            "   - Contoh: 3.5\n",
            "2. Kehadiran_Per_Mata_Kuliah\n",
            "   - Rentang: 0 sampai 100 (persentase kehadiran per mata kuliah)\n",
            "   - Contoh: 85\n",
            "3. Riwayat_Pengambilan_Ulang\n",
            "   - Rentang: 0 sampai jumlah mata kuliah yang diulang (bilangan bulat)\n",
            "   - Contoh: 2\n",
            "4. Aktivitas_Sistem_Pembelajaran_Daring\n",
            "   - Rentang: 0 sampai 100 (persentase aktivitas daring)\n",
            "   - Contoh: 70\n",
            "5. Beban_Kerja_JamPerMinggu\n",
            "   - Rentang: 0 sampai 168 (jam per minggu, maksimum 24 jam x 7 hari)\n",
            "   - Contoh: 20\n",
            "6. Status_Pekerjaan\n",
            "   - Pilihan: 1 (Bekerja), 0 (Tidak Bekerja)\n",
            "   - Contoh: 1\n",
            "7. Status_Ekonomi\n",
            "   - Pilihan: 0 (Rendah), 1 (Menengah), 2 (Tinggi)\n",
            "   - Contoh: 1\n"
          ]
        }
      ]
    },
    {
      "cell_type": "code",
      "source": [
        "# Memuat model Random Forest yang telah disimpan, alasannya karena lebih bagus dibanding Logistic Regression\n",
        "rf_model = joblib.load('model_prediksi_DO.pkl')\n",
        "print(\"Model Random Forest telah dimuat dari 'model_prediksi_DO.pkl'\")"
      ],
      "metadata": {
        "colab": {
          "base_uri": "https://localhost:8080/"
        },
        "id": "HHwNeoc4NjIY",
        "outputId": "30bb2fa0-a211-47dd-959a-9f8ebe175f5c"
      },
      "execution_count": 53,
      "outputs": [
        {
          "output_type": "stream",
          "name": "stdout",
          "text": [
            "Model Random Forest telah dimuat dari 'model_prediksi_DO.pkl'\n"
          ]
        }
      ]
    },
    {
      "cell_type": "code",
      "source": [
        "# Daftar fitur yang diperlukan\n",
        "fitur = ['IPK_Semester_1', 'IPK_Semester_2', 'IPK_Semester_3',\n",
        "         'IPK_Semester_4', 'IPK_Semester_5', 'IPK_Semester_6',\n",
        "         'Kehadiran_Per_Mata_Kuliah', 'Riwayat_Pengambilan_Ulang',\n",
        "         'Aktivitas_Sistem_Pembelajaran_Daring', 'Beban_Kerja_JamPerMinggu',\n",
        "         'Status_Pekerjaan', 'Status_Ekonomi']\n",
        "\n",
        "# Mengumpulkan input dari pengguna\n",
        "input_data = []\n",
        "for f in fitur:\n",
        "    while True:\n",
        "        try:\n",
        "            nilai = float(input(f\"Masukkan nilai untuk {f}: \"))\n",
        "            if f in ['IPK_Semester_1', 'IPK_Semester_2', 'IPK_Semester_3',\n",
        "                     'IPK_Semester_4', 'IPK_Semester_5', 'IPK_Semester_6']:\n",
        "                if not (0.0 <= nilai <= 4.0):\n",
        "                    print(\"Nilai harus antara 0.0 dan 4.0!\")\n",
        "                    continue\n",
        "            elif f == 'Kehadiran_Per_Mata_Kuliah' or f == 'Aktivitas_Sistem_Pembelajaran_Daring':\n",
        "                if not (0 <= nilai <= 100):\n",
        "                    print(\"Nilai harus antara 0 dan 100!\")\n",
        "                    continue\n",
        "            elif f == 'Riwayat_Pengambilan_Ulang':\n",
        "                if not (nilai >= 0 and nilai == int(nilai)):\n",
        "                    print(\"Nilai harus bilangan bulat positif!\")\n",
        "                    continue\n",
        "            elif f == 'Beban_Kerja_JamPerMinggu':\n",
        "                if not (0 <= nilai <= 168):\n",
        "                    print(\"Nilai harus antara 0 dan 168!\")\n",
        "                    continue\n",
        "            elif f == 'Status_Pekerjaan':\n",
        "                if not (nilai in [0, 1]):\n",
        "                    print(\"Nilai harus 0 (Tidak Bekerja) atau 1 (Bekerja)!\")\n",
        "                    continue\n",
        "            elif f == 'Status_Ekonomi':\n",
        "                if not (nilai in [0, 1, 2]):\n",
        "                    print(\"Nilai harus 0 (Rendah), 1 (Menengah), atau 2 (Tinggi)!\")\n",
        "                    continue\n",
        "            input_data.append(nilai)\n",
        "            break\n",
        "        except ValueError:\n",
        "            print(\"Input harus berupa angka! Silakan coba lagi.\")\n",
        "\n",
        "print(\"\\nData yang dimasukkan:\", input_data)"
      ],
      "metadata": {
        "colab": {
          "base_uri": "https://localhost:8080/"
        },
        "id": "UC1JJyzvNp0n",
        "outputId": "9d97fc1c-68a4-4fcb-9faa-24f2f0a71dff"
      },
      "execution_count": 54,
      "outputs": [
        {
          "output_type": "stream",
          "name": "stdout",
          "text": [
            "Masukkan nilai untuk IPK_Semester_1: 3.8\n",
            "Masukkan nilai untuk IPK_Semester_2: 3.5\n",
            "Masukkan nilai untuk IPK_Semester_3: 3.3\n",
            "Masukkan nilai untuk IPK_Semester_4: 3.1\n",
            "Masukkan nilai untuk IPK_Semester_5: 3.1\n",
            "Masukkan nilai untuk IPK_Semester_6: 3.05\n",
            "Masukkan nilai untuk Kehadiran_Per_Mata_Kuliah: 70\n",
            "Masukkan nilai untuk Riwayat_Pengambilan_Ulang: 4\n",
            "Masukkan nilai untuk Aktivitas_Sistem_Pembelajaran_Daring: 70\n",
            "Masukkan nilai untuk Beban_Kerja_JamPerMinggu: 60\n",
            "Masukkan nilai untuk Status_Pekerjaan: 1\n",
            "Masukkan nilai untuk Status_Ekonomi: 0\n",
            "\n",
            "Data yang dimasukkan: [3.8, 3.5, 3.3, 3.1, 3.1, 3.05, 70.0, 4.0, 70.0, 60.0, 1.0, 0.0]\n"
          ]
        }
      ]
    },
    {
      "cell_type": "code",
      "source": [
        "# Daftar kolom numerik untuk normalisasi\n",
        "kolom_numerik = ['IPK_Semester_1', 'IPK_Semester_2', 'IPK_Semester_3',\n",
        "                 'IPK_Semester_4', 'IPK_Semester_5', 'IPK_Semester_6',\n",
        "                 'Kehadiran_Per_Mata_Kuliah', 'Riwayat_Pengambilan_Ulang',\n",
        "                 'Aktivitas_Sistem_Pembelajaran_Daring', 'Beban_Kerja_JamPerMinggu']\n",
        "kolom_kategorikal = ['Status_Pekerjaan', 'Status_Ekonomi']\n",
        "\n",
        "# Memisahkan fitur numerik dan kategorikal dari input\n",
        "input_num = np.array(input_data[:10]).reshape(1, -1)  # Fitur numerik\n",
        "input_cat = np.array(input_data[10:]).reshape(1, -1)  # Fitur kategorikal\n",
        "\n",
        "# Normalisasi fitur numerik\n",
        "scaler = MinMaxScaler()\n",
        "scaler.fit(X_train[kolom_numerik])  # Asumsikan X_train dari pelatihan sebelumnya\n",
        "input_num_scaled = scaler.transform(input_num)\n",
        "\n",
        "# Menggabungkan fitur numerik yang dinormalisasi dan kategorikal\n",
        "input_final = np.hstack((input_num_scaled, input_cat))\n",
        "\n"
      ],
      "metadata": {
        "id": "Zr4MVXewN7Vx"
      },
      "execution_count": 56,
      "outputs": []
    },
    {
      "cell_type": "code",
      "source": [
        "# Melakukan prediksi\n",
        "prediksi = rf_model.predict(input_final)\n",
        "probabilitas = rf_model.predict_proba(input_final)\n",
        "\n",
        "# Menampilkan hasil\n",
        "print(\"\\nHasil Prediksi Risiko Dropout:\")\n",
        "print(\"Prediksi:\", \"Risiko Tinggi\" if prediksi[0] == 1 else \"Aman\")\n",
        "print(\"Probabilitas (Aman, Risiko Tinggi):\", probabilitas[0])"
      ],
      "metadata": {
        "colab": {
          "base_uri": "https://localhost:8080/"
        },
        "id": "T-SKxnH9OBLi",
        "outputId": "eda5ed3d-63a1-465d-8deb-1e8d89ff10a5"
      },
      "execution_count": 57,
      "outputs": [
        {
          "output_type": "stream",
          "name": "stdout",
          "text": [
            "\n",
            "Hasil Prediksi Risiko Dropout:\n",
            "Prediksi: Risiko Tinggi\n",
            "Probabilitas (Aman, Risiko Tinggi): [0.14 0.86]\n"
          ]
        }
      ]
    },
    {
      "cell_type": "code",
      "source": [
        "!pip freeze > requirements.txt\n",
        "print(\"requirements.txt file generated.\")"
      ],
      "metadata": {
        "colab": {
          "base_uri": "https://localhost:8080/"
        },
        "id": "aDBhshyZeE3x",
        "outputId": "66bb845d-e3af-4696-b074-f057032b0309"
      },
      "execution_count": 61,
      "outputs": [
        {
          "output_type": "stream",
          "name": "stdout",
          "text": [
            "requirements.txt file generated.\n"
          ]
        }
      ]
    }
  ]
}